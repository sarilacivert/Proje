{
 "cells": [
  {
   "cell_type": "code",
   "execution_count": 59,
   "metadata": {},
   "outputs": [],
   "source": [
    "import numpy as np\n",
    "import pandas as pd\n",
    "import seaborn as sns\n",
    "import matplotlib.pyplot as plt\n",
    "sns.set(style=\"white\", rc={\"axes.facecolor\": (0, 0, 0, 0)})"
   ]
  },
  {
   "cell_type": "code",
   "execution_count": 60,
   "metadata": {},
   "outputs": [],
   "source": [
    "# load the data\n",
    "sample_ccy = pd.read_csv('/Users/johfoxwo/Documents/ccy.csv')"
   ]
  },
  {
   "cell_type": "code",
   "execution_count": 61,
   "metadata": {},
   "outputs": [],
   "source": [
    "# Assign DataFrame\n",
    "df = pd.DataFrame(sample_ccy)"
   ]
  },
  {
   "cell_type": "code",
   "execution_count": 62,
   "metadata": {},
   "outputs": [
    {
     "data": {
      "text/plain": [
       "['4 Jan 1999 - 27 July 2018',\n",
       " 'EUR/USD',\n",
       " 'USD/JPY',\n",
       " 'GBP/USD',\n",
       " 'AUD/USD',\n",
       " 'USD/CAD']"
      ]
     },
     "execution_count": 62,
     "metadata": {},
     "output_type": "execute_result"
    }
   ],
   "source": [
    "# List column names to display the variables for anaylsis\n",
    "list(df.columns.values)"
   ]
  },
  {
   "cell_type": "code",
   "execution_count": 63,
   "metadata": {},
   "outputs": [],
   "source": [
    "# Setting up exchange rate variables \n",
    "EUR_USD, USD_JPY, GBP_USD, AUD_USD, USD_CAD = df.loc[:,'EUR/USD'],df.loc[:,'USD/JPY'],df.loc[:,'GBP/USD'],df.loc[:,'AUD/USD'],df.loc[:,'USD/CAD']"
   ]
  },
  {
   "cell_type": "code",
   "execution_count": 64,
   "metadata": {},
   "outputs": [
    {
     "data": {
      "text/plain": [
       "(4918, 4918, 4918, 4918, 4918)"
      ]
     },
     "execution_count": 64,
     "metadata": {},
     "output_type": "execute_result"
    }
   ],
   "source": [
    "# sanity check on the number of values in each exchange rates \n",
    "len (EUR_USD), len (USD_JPY), len (GBP_USD), len (AUD_USD), len (USD_CAD)"
   ]
  },
  {
   "cell_type": "code",
   "execution_count": 65,
   "metadata": {},
   "outputs": [
    {
     "data": {
      "text/plain": [
       "(0    112.15\n",
       " 1    111.15\n",
       " 2    112.78\n",
       " 3    111.69\n",
       " 4    111.52\n",
       " Name: USD/JPY, dtype: float64, 0    1.5268\n",
       " 1    1.5213\n",
       " 2    1.5110\n",
       " 3    1.5117\n",
       " 4    1.5145\n",
       " Name: USD/CAD, dtype: float64)"
      ]
     },
     "execution_count": 65,
     "metadata": {},
     "output_type": "execute_result"
    }
   ],
   "source": [
    "# Ensure all exchange rates are expressed the same way , i.e. in US Dollars . . . so need to flip these\n",
    "USD_JPY.head(), USD_CAD.head()"
   ]
  },
  {
   "cell_type": "code",
   "execution_count": 66,
   "metadata": {},
   "outputs": [],
   "source": [
    "# to flip the exchange rates divide with an array of ones\n",
    "ones = np.ones_like(USD_JPY)"
   ]
  },
  {
   "cell_type": "code",
   "execution_count": 67,
   "metadata": {},
   "outputs": [],
   "source": [
    "JPY_USD, CAD_USD = ones / USD_JPY, ones / USD_CAD"
   ]
  }
 ],
 "metadata": {
  "kernelspec": {
   "display_name": "Python 3",
   "language": "python",
   "name": "python3"
  },
  "language_info": {
   "codemirror_mode": {
    "name": "ipython",
    "version": 3
   },
   "file_extension": ".py",
   "mimetype": "text/x-python",
   "name": "python",
   "nbconvert_exporter": "python",
   "pygments_lexer": "ipython3",
   "version": "3.6.5"
  }
 },
 "nbformat": 4,
 "nbformat_minor": 2
}
