{
 "cells": [
  {
   "cell_type": "markdown",
   "metadata": {},
   "source": [
    "# The Data Science on U.S. Stock Returns with Python Programming"
   ]
  },
  {
   "cell_type": "markdown",
   "metadata": {},
   "source": [
    "\n",
    "\n",
    "\n",
    "# Abstract\n",
    "\n",
    "What drives U.S. Equity Returns? Are there any characteristics that explain the differences in stock returns? Regardless of the time period, can good features illustrate the nature of stock prices? \n",
    "\n",
    "For this project, I used multiple linear regression, cross validation, class imbalance, narrative analytics coupled with data visualization. In the domain of supervised learning in data science, where models have a known outcome such as stock market returns, I build the case for the small value company narrative.  I, also address the issue of overfitting for the performance of six portfolios from July 1926 to June 2018, on a monthly frequency, against the three independent drivers of stock returns. The end result is a dominant analytical narrative of the U.S. Stock Market with a small value company tilt."
   ]
  },
  {
   "cell_type": "markdown",
   "metadata": {},
   "source": [
    "# Introduction\n",
    "\n",
    "People in the financial markets have long been interested on the background of stock prices. Colloquial and academic theories rise and fall, like stock prices over decades of observations. Progress has been made first with better data, then financial knowledge followed by the science of statistics. Only testable explanations can shed light on the viable understanding on how U.S. stock markets work. Explanations without testing, sooner or later, lead to impracticality with a financial loss. Many scholars and practitioners have been selecting and examining various features, with various test results on the nature of stock market returns. Sometimes beliefs on the stock market do not change with good statistical tests that claim otherwise. Or good intuition on the nature of the stock market have no test results. Nonetheless, there is only one narrative analytics that dominates above the rest.\n",
    "\n",
    "In 2013, Eugene Fama of the University of Chicago, received the Nobel Memorial Prize in Economic Sciences for his life’s work on financial economics. Together with Kenneth French, who was also at the University of Chicago at the time, wrote a seminal research paper on stock market returns in 1993. The Fama – French Three – Factor Model with strong scientific evidence coupled with an outstanding data set used a multiple linear regression model to explain the nature of stock market returns. Beyond awards, the research paper is one of the most cited research papers in all of academia, i.e. the top 5% of the many thousands according to the reputable Social Science Research Network. Both Fama and French have facilitated the fecundity of feature based investing in the field of financial econometrics. Many academics and professionals in the financial services industry have used the foundation of their model to understand the rates of return in the stock market and have expanded or even altered the features to other products in the financial markets.\n",
    "\n",
    "# Data Selection, Feature Engineering and Bias\n",
    "\n",
    "Unlike many other business sectors, the financial services industry and its financial data is widely available because there are financial incentives to invest. The free and commercial publishing of stock market information has been around for decades, if not a century, which eases data selection for data scientists. If there are any data discrepancies, gaps or limitations, then there are resources for a remedy funded by financial institutions. Before the formal job title of a Data Engineer, and orginally beginning in 1962, the Center for Research on Security Prices (CRSP) at the University of Chicago have a strong historical stock data set. Originally academic with some help of government and commmericial interests over the decades, the data integrity and the data reliabliity of CRSP, was driven primarily by the financial incentives to invest in the U.S. Stock Market.\n",
    "\n",
    "However, like with all data selection, there can be biases and one in particular required great care to be removed in the initial years, according to CRSP. Survivorship bias, a type of selection bias, is the proclivity of removing failed companies to potentially skew results because of a lack of resources or even a deliberate action to validate a narrative of the U.S. Stock Market. Specially, as we shall see later below, small companies rather than larger companies have great significance in U.S. Stock Market returns. The economics of competition, the business of mismanagement, running out of cash financially are just a few reasons why small companies fail. Officially, the U.S. Bureau of Labor Statistics in March of 2017 claims 20% of small business fail in the first year and 50% fail in the fifth year. Although, the majority of companies in the U.S. are not public because of associated costs and risk of business regulations, this theme of small company capture in data sets played an important role for devleloping relevant narrative analytics.\n",
    "\n",
    "Beyond selection bias, reliable and consistently delivered data on publicly disclosed companies with transparent pricing on open financial markets, like the New York Stock Exchange (NYSE), one component source of CRSP, gives all observers plenty of cross validation. Trust in the data led researchers to surmise features based on their narratives of the U.S. stock market and therefore different types of Feature Engineering arose. Exogenous Feature Engineering on the investing in global oil production and prices through the representation of U.S. Oil company stocks. Endogenous Feature Engineering on company news acquring another company. Many frameworks engineered features of stock returns on their narrative analytics or data driven story telling.  Nonetheless, this leads us to the most successful narrative analytics of the returns in the U.S. stock market."
   ]
  },
  {
   "cell_type": "markdown",
   "metadata": {},
   "source": [
    "# The Model\n",
    "\n",
    "The features that Eugene Fama and Kenneth French chose to explain U.S. stock returns were the internal attributes of size and style of individual companies along with the overall clustering effect of the market. The narrative on what is the cause of U.S. stock market returns is risk, which is generally defined as the chance that something can lose value. Specifically, the sensitivies of the market, value style and small size are the explanatory or independent variables that drive the U.S. stock market. On the other hand, the dependent variable, or portfolio returns are subtracted by a risk free return or the 90 U.S. Treasury Bill to focus on the excess return above a risk free alternative.\n",
    "\n",
    "The market risk factor is the quantity of exposure an investor may have to the entire U.S. Stock Market over the risk free investment of a T – Bill.\n",
    "\n",
    "The size risk factor is the return of low capitalized companies over the return of large capitalized companies. Specifically, the average return of the bottom 30% of companies over the average return of the top 30% (Keep or Remove this sentence) Smaller companies have less departments to absorb the impacts of business risks and less financial capacity compared to large companies.\n",
    "\n",
    "The value risk factor is the low price stock exposure or stocks with high book – to – market ratios that are undervalued. To elaborate, value is a financial metric made of components like book value and market value. What a company has in assets with what it owes in liabilities is the net worth or book value. The value of future earnings of the company are not considered as book value is a snapshot of current assets minus liabilities. Separately, market value is a price adjusted quantity available in the financial market or the price per tradeable share times the number of tradeable shares outstanding. Similar to the price square foot in real estate, market value is the price market participants will buy or sell a product in a market. Supply and demand drives market value like a vote for value. Altogether, the book value is the numerator of the ratio and market value is the denominator. Value stocks have greater book values than market values so high book – to – market ratios."
   ]
  },
  {
   "cell_type": "code",
   "execution_count": 30,
   "metadata": {},
   "outputs": [],
   "source": [
    "import math\n",
    "import warnings\n",
    "from colorama import Fore\n",
    "\n",
    "from IPython.display import display\n",
    "from matplotlib import pyplot as plt\n",
    "import numpy as np\n",
    "import pandas as pd\n",
    "import seaborn as sns\n",
    "from sklearn import linear_model\n",
    "import statsmodels.formula.api as smf\n",
    "from sklearn.model_selection import cross_val_score\n",
    "from sklearn.model_selection import train_test_split\n",
    "\n",
    "# Display preferences.\n",
    "%matplotlib inline\n",
    "pd.options.display.float_format = '{:.3f}'.format\n",
    "\n",
    "# Suppress annoying harmless error.\n",
    "warnings.filterwarnings(\n",
    "    action=\"ignore\",\n",
    "    module=\"scipy\",\n",
    "    message=\"^internal gelsd\"\n",
    ")"
   ]
  },
  {
   "cell_type": "code",
   "execution_count": 31,
   "metadata": {},
   "outputs": [
    {
     "data": {
      "text/plain": [
       "['Month',\n",
       " 'Mkt-RF',\n",
       " 'SMB',\n",
       " 'HML',\n",
       " 'SMALL LoBM-RF',\n",
       " 'ME1 BM2-RF',\n",
       " 'SMALL HiBM-RF',\n",
       " 'BIG LoBM-RF',\n",
       " 'ME2 BM2-RF',\n",
       " 'BIG HiBM-RF']"
      ]
     },
     "execution_count": 31,
     "metadata": {},
     "output_type": "execute_result"
    }
   ],
   "source": [
    "# Load the file for analysis and view columns\n",
    "\n",
    "df = pd.read_csv('/Users/lacivert/3/ff3f.csv')\n",
    "\n",
    "df = pd.DataFrame(df)\n",
    "\n",
    "list(df.columns.values)"
   ]
  },
  {
   "cell_type": "code",
   "execution_count": 32,
   "metadata": {},
   "outputs": [],
   "source": [
    "# Assign the variables for analysis\n",
    "\n",
    "# Time\n",
    "month = df.loc[:,'Month']\n",
    "\n",
    "# independent factors \n",
    "market_return, small_vs_big, value_vs_growth = df.loc[:,'Mkt-RF'], df.loc[:,'SMB'], df.loc[:,'HML']\n",
    "\n",
    "# dependent factors on small companies across style\n",
    "small_growth_excess_return, small_neutral_excess_return = df.loc[:,'SMALL LoBM-RF'], df.loc[:,'ME1 BM2-RF']\n",
    "\n",
    "small_value_excess_return = df.loc[:,'SMALL HiBM-RF']   \n",
    "\n",
    "# dependent factors on large companies across style \n",
    "large_growth_excess_return, large_neutral_excess_return = df.loc[:,'BIG LoBM-RF'], df.loc[:,'ME2 BM2-RF']\n",
    "\n",
    "large_value_excess_return = df.loc[:,'BIG HiBM-RF']"
   ]
  },
  {
   "cell_type": "code",
   "execution_count": 33,
   "metadata": {},
   "outputs": [
    {
     "data": {
      "text/plain": [
       "(1104, 1104, 1104, 1104, 1104, 1104, 1104, 1104, 1104, 1104)"
      ]
     },
     "execution_count": 33,
     "metadata": {},
     "output_type": "execute_result"
    }
   ],
   "source": [
    "# Sanity check for length\n",
    "len(month), len(market_return), len(small_vs_big), len(value_vs_growth),len(small_growth_excess_return), len(small_neutral_excess_return), len(small_value_excess_return),len(large_growth_excess_return), len(large_neutral_excess_return), len(large_value_excess_return)"
   ]
  },
  {
   "cell_type": "code",
   "execution_count": 34,
   "metadata": {},
   "outputs": [
    {
     "data": {
      "text/html": [
       "<div>\n",
       "<style scoped>\n",
       "    .dataframe tbody tr th:only-of-type {\n",
       "        vertical-align: middle;\n",
       "    }\n",
       "\n",
       "    .dataframe tbody tr th {\n",
       "        vertical-align: top;\n",
       "    }\n",
       "\n",
       "    .dataframe thead th {\n",
       "        text-align: right;\n",
       "    }\n",
       "</style>\n",
       "<table border=\"1\" class=\"dataframe\">\n",
       "  <thead>\n",
       "    <tr style=\"text-align: right;\">\n",
       "      <th></th>\n",
       "      <th>Market_Risk_Factor</th>\n",
       "      <th>Size_Risk_Factor</th>\n",
       "      <th>Style_Risk_Factor</th>\n",
       "    </tr>\n",
       "  </thead>\n",
       "  <tbody>\n",
       "    <tr>\n",
       "      <th>count</th>\n",
       "      <td>1104.000</td>\n",
       "      <td>1104.000</td>\n",
       "      <td>1104.000</td>\n",
       "    </tr>\n",
       "    <tr>\n",
       "      <th>mean</th>\n",
       "      <td>0.662</td>\n",
       "      <td>0.216</td>\n",
       "      <td>0.373</td>\n",
       "    </tr>\n",
       "    <tr>\n",
       "      <th>std</th>\n",
       "      <td>5.332</td>\n",
       "      <td>3.200</td>\n",
       "      <td>3.490</td>\n",
       "    </tr>\n",
       "    <tr>\n",
       "      <th>min</th>\n",
       "      <td>-29.130</td>\n",
       "      <td>-17.280</td>\n",
       "      <td>-13.280</td>\n",
       "    </tr>\n",
       "    <tr>\n",
       "      <th>25%</th>\n",
       "      <td>-1.970</td>\n",
       "      <td>-1.560</td>\n",
       "      <td>-1.305</td>\n",
       "    </tr>\n",
       "    <tr>\n",
       "      <th>50%</th>\n",
       "      <td>1.015</td>\n",
       "      <td>0.080</td>\n",
       "      <td>0.155</td>\n",
       "    </tr>\n",
       "    <tr>\n",
       "      <th>75%</th>\n",
       "      <td>3.635</td>\n",
       "      <td>1.745</td>\n",
       "      <td>1.732</td>\n",
       "    </tr>\n",
       "    <tr>\n",
       "      <th>max</th>\n",
       "      <td>38.850</td>\n",
       "      <td>36.700</td>\n",
       "      <td>35.460</td>\n",
       "    </tr>\n",
       "  </tbody>\n",
       "</table>\n",
       "</div>"
      ],
      "text/plain": [
       "       Market_Risk_Factor  Size_Risk_Factor  Style_Risk_Factor\n",
       "count            1104.000          1104.000           1104.000\n",
       "mean                0.662             0.216              0.373\n",
       "std                 5.332             3.200              3.490\n",
       "min               -29.130           -17.280            -13.280\n",
       "25%                -1.970            -1.560             -1.305\n",
       "50%                 1.015             0.080              0.155\n",
       "75%                 3.635             1.745              1.732\n",
       "max                38.850            36.700             35.460"
      ]
     },
     "execution_count": 34,
     "metadata": {},
     "output_type": "execute_result"
    }
   ],
   "source": [
    "# Subset of Inpendent Variables\n",
    "\n",
    "three = [market_return, small_vs_big, value_vs_growth]\n",
    "\n",
    "df_three = pd.DataFrame(data=three)\n",
    "\n",
    "df_three.reset_index()\n",
    "\n",
    "df_independent_factors = df_three.transpose()\n",
    "\n",
    "df_independent_factors.rename (columns={'Mkt-RF' : 'Market_Risk_Factor'}, inplace=True)\n",
    "\n",
    "df_independent_factors.rename (columns={'SMB' : 'Size_Risk_Factor'}, inplace=True)\n",
    "\n",
    "df_independent_factors.rename (columns={'HML' : 'Style_Risk_Factor'}, inplace=True)\n",
    "\n",
    "df_independent_factors.describe()"
   ]
  },
  {
   "cell_type": "markdown",
   "metadata": {},
   "source": [
    "# Correlation Matrix of Independent Factors\n",
    "\n",
    "A relevant and robust model would have explanatory factors that are independent of each other so each feature can explain their effect on the U.S. Stock Market without interference. The near zero figures below add explanatory value of U.S. stock market returns as each contribute the nature of the U.S. stock market."
   ]
  },
  {
   "cell_type": "code",
   "execution_count": 35,
   "metadata": {},
   "outputs": [
    {
     "data": {
      "text/plain": [
       "Text(0.5,1,'Correlation Matrix Heatmap of Independent Risk Factors\\nMonthly Frequency of July 1926 to June 2018')"
      ]
     },
     "execution_count": 35,
     "metadata": {},
     "output_type": "execute_result"
    },
    {
     "data": {
      "image/png": "[encoded data removed]",
      "text/plain": [
       "<Figure size 792x648 with 2 Axes>"
      ]
     },
     "metadata": {},
     "output_type": "display_data"
    }
   ],
   "source": [
    "# Generate a correlation matrix function and assign it\n",
    "corr = df_independent_factors.corr()\n",
    "\n",
    "# Generate a mask for the upper triangle\n",
    "mask = np.zeros_like(corr, dtype=np.bool)\n",
    "mask[np.triu_indices_from(mask)] = True\n",
    "\n",
    "# Set up the matplotlib figure\n",
    "f, ax = plt.subplots(figsize=(11, 9))\n",
    "\n",
    "# Generate a custom diverging colormap\n",
    "cmap = sns.diverging_palette(220, 10, as_cmap=True)\n",
    "\n",
    "# Draw the heatmap with the mask and correct aspect ratio\n",
    "sns.heatmap(corr, mask=mask, cmap='Spectral', vmax=.3, center=0, annot_kws={\"size\": 20}, \n",
    "            square=True, annot=True, linewidths=.5, cbar_kws={\"shrink\": .7})\n",
    "\n",
    "# Make it readable and nice\n",
    "plt.yticks(rotation=0, fontweight='bold', fontsize=14)\n",
    "plt.xticks(fontweight='bold', fontsize=14)\n",
    "plt.title('Correlation Matrix Heatmap of Independent Risk Factors\\nMonthly Frequency of July 1926 to June 2018'\n",
    "          , fontweight='bold', fontsize=15,color='k')"
   ]
  },
  {
   "cell_type": "markdown",
   "metadata": {},
   "source": [
    "# Another Visual of the 3 Independent Risk Factors Below"
   ]
  },
  {
   "cell_type": "code",
   "execution_count": 36,
   "metadata": {},
   "outputs": [
    {
     "data": {
      "text/plain": [
       "<matplotlib.legend.Legend at 0x1a20031748>"
      ]
     },
     "execution_count": 36,
     "metadata": {},
     "output_type": "execute_result"
    },
    {
     "data": {
      "image/png": "[encoded data removed]",
      "text/plain": [
       "<Figure size 432x288 with 1 Axes>"
      ]
     },
     "metadata": {},
     "output_type": "display_data"
    }
   ],
   "source": [
    "sns.distplot(market_return,label='Market Risk Factor',hist=False)\n",
    "sns.distplot(small_vs_big,label='Size Risk Factor',hist=False)\n",
    "sns.distplot(value_vs_growth, label='Style Risk Factor',hist=False)\n",
    "plt.xlabel('Three Independent Risk Factors',color='green')\n",
    "plt.ylabel('Number of Observations',color='green')\n",
    "plt.title('Monthly Distplot July 1926 - June 2018', color='green')\n",
    "plt.legend()"
   ]
  },
  {
   "cell_type": "markdown",
   "metadata": {},
   "source": [
    "# Subset of 6 Portfolio Returns or Dependent Variables"
   ]
  },
  {
   "cell_type": "code",
   "execution_count": 37,
   "metadata": {},
   "outputs": [
    {
     "data": {
      "text/html": [
       "<div>\n",
       "<style scoped>\n",
       "    .dataframe tbody tr th:only-of-type {\n",
       "        vertical-align: middle;\n",
       "    }\n",
       "\n",
       "    .dataframe tbody tr th {\n",
       "        vertical-align: top;\n",
       "    }\n",
       "\n",
       "    .dataframe thead th {\n",
       "        text-align: right;\n",
       "    }\n",
       "</style>\n",
       "<table border=\"1\" class=\"dataframe\">\n",
       "  <thead>\n",
       "    <tr style=\"text-align: right;\">\n",
       "      <th></th>\n",
       "      <th>Small_Growth</th>\n",
       "      <th>Small_Neutral</th>\n",
       "      <th>Small_Value</th>\n",
       "      <th>Large_Growth</th>\n",
       "      <th>Large_Neutral</th>\n",
       "      <th>Large_Value</th>\n",
       "    </tr>\n",
       "  </thead>\n",
       "  <tbody>\n",
       "    <tr>\n",
       "      <th>count</th>\n",
       "      <td>1104.000</td>\n",
       "      <td>1104.000</td>\n",
       "      <td>1104.000</td>\n",
       "      <td>1104.000</td>\n",
       "      <td>1104.000</td>\n",
       "      <td>1104.000</td>\n",
       "    </tr>\n",
       "    <tr>\n",
       "      <th>mean</th>\n",
       "      <td>0.717</td>\n",
       "      <td>0.987</td>\n",
       "      <td>1.193</td>\n",
       "      <td>0.646</td>\n",
       "      <td>0.687</td>\n",
       "      <td>0.917</td>\n",
       "    </tr>\n",
       "    <tr>\n",
       "      <th>std</th>\n",
       "      <td>7.510</td>\n",
       "      <td>6.961</td>\n",
       "      <td>8.127</td>\n",
       "      <td>5.286</td>\n",
       "      <td>5.653</td>\n",
       "      <td>7.120</td>\n",
       "    </tr>\n",
       "    <tr>\n",
       "      <th>min</th>\n",
       "      <td>-32.969</td>\n",
       "      <td>-30.082</td>\n",
       "      <td>-33.859</td>\n",
       "      <td>-28.897</td>\n",
       "      <td>-28.179</td>\n",
       "      <td>-35.143</td>\n",
       "    </tr>\n",
       "    <tr>\n",
       "      <th>25%</th>\n",
       "      <td>-3.272</td>\n",
       "      <td>-2.134</td>\n",
       "      <td>-2.314</td>\n",
       "      <td>-2.031</td>\n",
       "      <td>-1.873</td>\n",
       "      <td>-2.245</td>\n",
       "    </tr>\n",
       "    <tr>\n",
       "      <th>50%</th>\n",
       "      <td>0.976</td>\n",
       "      <td>1.227</td>\n",
       "      <td>1.280</td>\n",
       "      <td>0.993</td>\n",
       "      <td>0.935</td>\n",
       "      <td>1.109</td>\n",
       "    </tr>\n",
       "    <tr>\n",
       "      <th>75%</th>\n",
       "      <td>4.742</td>\n",
       "      <td>4.320</td>\n",
       "      <td>4.598</td>\n",
       "      <td>3.588</td>\n",
       "      <td>3.200</td>\n",
       "      <td>4.088</td>\n",
       "    </tr>\n",
       "    <tr>\n",
       "      <th>max</th>\n",
       "      <td>59.898</td>\n",
       "      <td>62.157</td>\n",
       "      <td>83.545</td>\n",
       "      <td>33.639</td>\n",
       "      <td>51.793</td>\n",
       "      <td>67.755</td>\n",
       "    </tr>\n",
       "  </tbody>\n",
       "</table>\n",
       "</div>"
      ],
      "text/plain": [
       "       Small_Growth  Small_Neutral  Small_Value  Large_Growth  Large_Neutral  \\\n",
       "count      1104.000       1104.000     1104.000      1104.000       1104.000   \n",
       "mean          0.717          0.987        1.193         0.646          0.687   \n",
       "std           7.510          6.961        8.127         5.286          5.653   \n",
       "min         -32.969        -30.082      -33.859       -28.897        -28.179   \n",
       "25%          -3.272         -2.134       -2.314        -2.031         -1.873   \n",
       "50%           0.976          1.227        1.280         0.993          0.935   \n",
       "75%           4.742          4.320        4.598         3.588          3.200   \n",
       "max          59.898         62.157       83.545        33.639         51.793   \n",
       "\n",
       "       Large_Value  \n",
       "count     1104.000  \n",
       "mean         0.917  \n",
       "std          7.120  \n",
       "min        -35.143  \n",
       "25%         -2.245  \n",
       "50%          1.109  \n",
       "75%          4.088  \n",
       "max         67.755  "
      ]
     },
     "execution_count": 37,
     "metadata": {},
     "output_type": "execute_result"
    }
   ],
   "source": [
    "six = [small_growth_excess_return, small_neutral_excess_return, small_value_excess_return, large_growth_excess_return, large_neutral_excess_return, large_value_excess_return]\n",
    "\n",
    "df_six = pd.DataFrame(data=six)\n",
    "\n",
    "df_six.reset_index()\n",
    "\n",
    "df_dependent_factors = df_six.transpose()\n",
    "\n",
    "df_dependent_factors.rename (columns={'SMALL LoBM-RF' : 'Small_Growth'}, inplace=True)\n",
    "\n",
    "df_dependent_factors.rename (columns={'ME1 BM2-RF' : 'Small_Neutral'}, inplace=True)\n",
    "\n",
    "df_dependent_factors.rename (columns={'SMALL HiBM-RF' : 'Small_Value'}, inplace=True)\n",
    "\n",
    "df_dependent_factors.rename (columns={'BIG LoBM-RF' : 'Large_Growth'}, inplace=True)\n",
    "\n",
    "df_dependent_factors.rename (columns={'ME2 BM2-RF' : 'Large_Neutral'}, inplace=True)\n",
    "\n",
    "df_dependent_factors.rename (columns={'BIG HiBM-RF' : 'Large_Value'}, inplace=True)\n",
    "\n",
    "df_dependent_factors.describe()"
   ]
  },
  {
   "cell_type": "markdown",
   "metadata": {},
   "source": [
    "# Correlation Matrix of Portfolios\n",
    "\n",
    "Similar return behavior of the six portfolios provides an overall view of the nature of the U.S. Stock Market Returns as the figures below are closer to one.  As no segment can be isolated to demonstrate class imbalance."
   ]
  },
  {
   "cell_type": "code",
   "execution_count": 38,
   "metadata": {},
   "outputs": [
    {
     "data": {
      "text/plain": [
       "Text(0.5,1,'Correlation Matrix Heatmap of Six Portfolios\\nMonthly Frequency of July 1926 to June 2018')"
      ]
     },
     "execution_count": 38,
     "metadata": {},
     "output_type": "execute_result"
    },
    {
     "data": {
      "image/png": "[encoded data removed]",
      "text/plain": [
       "<Figure size 792x648 with 2 Axes>"
      ]
     },
     "metadata": {},
     "output_type": "display_data"
    }
   ],
   "source": [
    "# Generate a correlation matrix function and assign it\n",
    "corr = df_dependent_factors.corr()\n",
    "\n",
    "# Generate a mask for the upper triangle\n",
    "mask = np.zeros_like(corr, dtype=np.bool)\n",
    "mask[np.triu_indices_from(mask)] = True\n",
    "\n",
    "# Set up the matplotlib figure\n",
    "f, ax = plt.subplots(figsize=(11, 9))\n",
    "\n",
    "# Generate a custom diverging colormap\n",
    "cmap = sns.diverging_palette(220, 10, as_cmap=True)\n",
    "\n",
    "# Draw the heatmap with the mask and correct aspect ratio\n",
    "sns.heatmap(corr, mask=mask, cmap='Spectral', vmax=.3, center=0, annot_kws={\"size\": 20}, \n",
    "            square=True, annot=True, linewidths=.5, cbar_kws={\"shrink\": .7})\n",
    "\n",
    "# Make it readable and nice\n",
    "plt.yticks(rotation=0, fontweight='bold', fontsize=12)\n",
    "plt.xticks(rotation=25,fontweight='bold', fontsize=12)\n",
    "plt.title('Correlation Matrix Heatmap of Six Portfolios\\nMonthly Frequency of July 1926 to June 2018'\n",
    "          , fontweight='bold', fontsize=15,color='k')"
   ]
  },
  {
   "cell_type": "markdown",
   "metadata": {},
   "source": [
    "# Running the Regressions below . . .\n",
    "\n",
    "Now that we provided the features of the U.S. Stock Market let's the multiple linear regression against the sizes of small and large across the styles of value, neutral and growth."
   ]
  },
  {
   "cell_type": "code",
   "execution_count": 39,
   "metadata": {},
   "outputs": [
    {
     "name": "stdout",
     "output_type": "stream",
     "text": [
      "\u001b[31m\n",
      "Small Growth Portfolio Excess Return on 3 Factors\n",
      "\n",
      "Coefficients:  [ 1.08845865  1.03733551 -0.19204224]\n",
      "\n",
      "Intercept:  -0.15607637648846318\n",
      "\n",
      "R-squared: 0.9747660850232415\n"
     ]
    }
   ],
   "source": [
    "regr = linear_model.LinearRegression()\n",
    "Y_sg = df['SMALL LoBM-RF']\n",
    "X = df[['Mkt-RF','SMB', 'HML']]\n",
    "regr.fit(X, Y_sg)\n",
    "\n",
    "print(Fore.RED + \"\\nSmall Growth Portfolio Excess Return on 3 Factors\")\n",
    "print('\\nCoefficients: ', regr.coef_)\n",
    "print('\\nIntercept: ', regr.intercept_)\n",
    "print('\\nR-squared:', regr.score(X, Y_sg))\n",
    "\n",
    "small_growth_coeffs = regr.coef_\n",
    "small_growth_alpha = regr.intercept_\n",
    "small_growth_rsqrd = regr.score(X, Y_sg)"
   ]
  },
  {
   "cell_type": "code",
   "execution_count": 40,
   "metadata": {},
   "outputs": [
    {
     "name": "stdout",
     "output_type": "stream",
     "text": [
      "\u001b[32m\n",
      "\tSmall Neutral Portfolio Excess Return on 3 Factors\n",
      "\n",
      "\tCoefficients:  [0.98371966 0.81945716 0.29526846]\n",
      "\n",
      "\tIntercept:  0.04864523246355379\n",
      "\n",
      "\tR-squared: 0.978069909822615\n"
     ]
    }
   ],
   "source": [
    "regr = linear_model.LinearRegression()\n",
    "Y_sn = df['ME1 BM2-RF']\n",
    "X = df[['Mkt-RF','SMB', 'HML']]\n",
    "regr.fit(X, Y_sn)\n",
    "\n",
    "print(Fore.GREEN + '\\n\\tSmall Neutral Portfolio Excess Return on 3 Factors')\n",
    "print('\\n\\tCoefficients: ', regr.coef_)\n",
    "print('\\n\\tIntercept: ', regr.intercept_)\n",
    "print('\\n\\tR-squared:',  regr.score(X, Y_sn))\n",
    "\n",
    "\n",
    "small_neutral_coeffs = regr.coef_\n",
    "small_neutral_alpha = regr.intercept_\n",
    "small_neutral_rsqrd = regr.score(X, Y_sn)"
   ]
  },
  {
   "cell_type": "code",
   "execution_count": 41,
   "metadata": {},
   "outputs": [
    {
     "name": "stdout",
     "output_type": "stream",
     "text": [
      "\u001b[34m\n",
      "\t\tSmall Value Portfolio Excess Return on 3 Factors\n",
      "\n",
      "\t\tCoefficients:  [1.02339806 0.92902604 0.78638082]\n",
      "\n",
      "\t\tIntercept:  0.021218161850596662\n",
      "\n",
      "\t\tR-squared: 0.9921284459293503\n"
     ]
    }
   ],
   "source": [
    "regr = linear_model.LinearRegression()\n",
    "Y_sv = df['SMALL HiBM-RF']\n",
    "X = df[['Mkt-RF','SMB', 'HML']]\n",
    "regr.fit(X, Y_sv)\n",
    "\n",
    "print(Fore.BLUE + '\\n\\t\\tSmall Value Portfolio Excess Return on 3 Factors')\n",
    "print('\\n\\t\\tCoefficients: ', regr.coef_)\n",
    "print('\\n\\t\\tIntercept: ', regr.intercept_)\n",
    "print('\\n\\t\\tR-squared:', regr.score(X, Y_sv))\n",
    "\n",
    "small_value_coeffs = regr.coef_\n",
    "small_value_alpha = regr.intercept_\n",
    "small_value_rsqrd = regr.score(X, Y_sv)"
   ]
  },
  {
   "cell_type": "code",
   "execution_count": 42,
   "metadata": {},
   "outputs": [
    {
     "name": "stdout",
     "output_type": "stream",
     "text": [
      "\u001b[30m\n",
      "Large Growth Portfolio Excess Return on 3 Factors\n",
      "\n",
      "Coefficients:  [ 1.02221942 -0.0919116  -0.22922249]\n",
      "\n",
      "Intercept:  0.07479212176192906\n",
      "\n",
      "R-squared: 0.9811419118782503\n"
     ]
    }
   ],
   "source": [
    "regr = linear_model.LinearRegression()\n",
    "Y_lg = df['BIG LoBM-RF']\n",
    "X = df[['Mkt-RF','SMB', 'HML']]\n",
    "regr.fit(X, Y_lg)\n",
    "\n",
    "print(Fore.BLACK + '\\nLarge Growth Portfolio Excess Return on 3 Factors')\n",
    "print('\\nCoefficients: ', regr.coef_)\n",
    "print('\\nIntercept: ', regr.intercept_)\n",
    "print('\\nR-squared:', regr.score(X, Y_lg))\n",
    "\n",
    "large_growth_coeffs = regr.coef_\n",
    "large_growth_alpha = regr.intercept_\n",
    "large_growth_rsqrd = regr.score(X, Y_lg)"
   ]
  },
  {
   "cell_type": "code",
   "execution_count": 43,
   "metadata": {},
   "outputs": [
    {
     "name": "stdout",
     "output_type": "stream",
     "text": [
      "\u001b[35m\n",
      "\tLarge Neutral Portfolio Excess Return on 3 Factors\n",
      "\n",
      "\tCoefficients:  [ 0.98611766 -0.13876716  0.32642338]\n",
      "\n",
      "\tIntercept:  -0.05836561347473246\n",
      "\n",
      "\tR-squared: 0.9508277054882855\n"
     ]
    }
   ],
   "source": [
    "regr = linear_model.LinearRegression()\n",
    "Y_ln = df['ME2 BM2-RF']\n",
    "X = df[['Mkt-RF','SMB', 'HML']]\n",
    "regr.fit(X, Y_ln)\n",
    "\n",
    "print(Fore.MAGENTA + '\\n\\tLarge Neutral Portfolio Excess Return on 3 Factors')\n",
    "print('\\n\\tCoefficients: ', regr.coef_)\n",
    "print('\\n\\tIntercept: ', regr.intercept_)\n",
    "print('\\n\\tR-squared:', regr.score(X, Y_ln))\n",
    "\n",
    "large_neutral_coeffs = regr.coef_\n",
    "large_neutral_alpha = regr.intercept_\n",
    "large_neutral_rsqrd = regr.score(X, Y_ln)"
   ]
  },
  {
   "cell_type": "code",
   "execution_count": 44,
   "metadata": {},
   "outputs": [
    {
     "name": "stdout",
     "output_type": "stream",
     "text": [
      "\u001b[33m\n",
      "\t\tLarge Value Portfolio Excess Return on 3 Factors\n",
      "\n",
      "\t\tCoefficients:  [1.08727363 0.01648414 0.7924494 ]\n",
      "\n",
      "\t\tIntercept:  -0.10269597287521437\n",
      "\n",
      "\t\tR-squared: 0.9686486651506865\n"
     ]
    }
   ],
   "source": [
    "regr = linear_model.LinearRegression()\n",
    "Y_lv = df['BIG HiBM-RF']\n",
    "X = df[['Mkt-RF','SMB', 'HML']]\n",
    "regr.fit(X, Y_lv)\n",
    "\n",
    "print(Fore.YELLOW + '\\n\\t\\tLarge Value Portfolio Excess Return on 3 Factors')\n",
    "print('\\n\\t\\tCoefficients: ', regr.coef_)\n",
    "print('\\n\\t\\tIntercept: ', regr.intercept_)\n",
    "print('\\n\\t\\tR-squared:', regr.score(X, Y_lv))\n",
    "\n",
    "large_value_coeffs = regr.coef_\n",
    "large_value_alpha = regr.intercept_\n",
    "large_value_rsqrd = regr.score(X, Y_lv)"
   ]
  },
  {
   "cell_type": "markdown",
   "metadata": {},
   "source": [
    "# Interpreting the results\n",
    "\n",
    "All of the R - Squared are near one so almost all of the variance in the portfolio returns, in the y variable, are explanied by the independent variables, x. Too many parameters in the Fama French 3 Factor Model could be overfitting because we are fitting the noise rather than the signal of the U.S. stock market."
   ]
  },
  {
   "cell_type": "code",
   "execution_count": 47,
   "metadata": {},
   "outputs": [
    {
     "data": {
      "text/plain": [
       "(0.9747660850232415,\n",
       " 0.978069909822615,\n",
       " 0.9921284459293503,\n",
       " 0.9811419118782503,\n",
       " 0.9508277054882855,\n",
       " 0.9686486651506865)"
      ]
     },
     "execution_count": 47,
     "metadata": {},
     "output_type": "execute_result"
    }
   ],
   "source": [
    "small_growth_rsqrd, small_neutral_rsqrd, small_value_rsqrd,large_growth_rsqrd, large_neutral_rsqrd, large_value_rsqrd"
   ]
  },
  {
   "cell_type": "code",
   "execution_count": 48,
   "metadata": {},
   "outputs": [
    {
     "data": {
      "text/plain": [
       "(-0.15607637648846318,\n",
       " 0.04864523246355379,\n",
       " 0.021218161850596662,\n",
       " 0.07479212176192906,\n",
       " -0.05836561347473246,\n",
       " -0.10269597287521437)"
      ]
     },
     "execution_count": 48,
     "metadata": {},
     "output_type": "execute_result"
    }
   ],
   "source": [
    "# Alphas\n",
    "small_growth_alpha, small_neutral_alpha, small_value_alpha,large_growth_alpha, large_neutral_alpha, large_value_alpha"
   ]
  },
  {
   "cell_type": "code",
   "execution_count": 49,
   "metadata": {},
   "outputs": [
    {
     "data": {
      "text/plain": [
       "(array([ 1.08845865,  1.03733551, -0.19204224]),\n",
       " array([0.98371966, 0.81945716, 0.29526846]),\n",
       " array([1.02339806, 0.92902604, 0.78638082]),\n",
       " array([ 1.02221942, -0.0919116 , -0.22922249]),\n",
       " array([ 0.98611766, -0.13876716,  0.32642338]),\n",
       " array([1.08727363, 0.01648414, 0.7924494 ]))"
      ]
     },
     "execution_count": 49,
     "metadata": {},
     "output_type": "execute_result"
    }
   ],
   "source": [
    "# Coefficients\n",
    "small_growth_coeffs, small_neutral_coeffs, small_value_coeffs,large_growth_coeffs, large_neutral_coeffs, large_value_coeffs"
   ]
  },
  {
   "cell_type": "markdown",
   "metadata": {},
   "source": [
    "# Addressing Overfitting with In Sample 20% Evaluation"
   ]
  },
  {
   "cell_type": "code",
   "execution_count": 64,
   "metadata": {},
   "outputs": [],
   "source": [
    "# Assign the estimator of the cross validation model as a linear regression\n",
    "clf = linear_model.LinearRegression()"
   ]
  },
  {
   "cell_type": "code",
   "execution_count": 65,
   "metadata": {},
   "outputs": [
    {
     "name": "stdout",
     "output_type": "stream",
     "text": [
      "\u001b[31mWith 20% Holdout on Small Growth: 0.9591055249494521\n",
      "Testing on Sample on Small Growth: 0.9747660850232415\n",
      "\n",
      "\u001b[32m\tWith 20% Holdout on Small Neutral: 0.9591055249494521\n",
      "\tTesting on Sample on Small Neutral: 0.978069909822615\n",
      "\n",
      "\u001b[34m\t\tWith 20% Holdout on Small Value: 0.9591055249494521\n",
      "\t\tTesting on Sample on Small Value: 0.9921284459293503\n",
      "\n",
      "\u001b[30mWith 20% Holdout on Large Growth: 0.9591055249494521\n",
      "Testing on Sample on Large Growth: 0.9811419118782503\n",
      "\n",
      "\u001b[35m\tWith 20% Holdout on Large Neutral: 0.9591055249494521\n",
      "\tTesting on Sample on Large Neutral: 0.9508277054882855\n",
      "\n",
      "\u001b[33m\t\tWith 20% Holdout on Large Value: 0.9591055249494521\n",
      "\t\tTesting on Sample on Large Value: 0.9686486651506865\n",
      "\n"
     ]
    }
   ],
   "source": [
    "X_train, X_test, y_train, y_test = train_test_split(X, Y_sg, test_size=0.2, random_state=20)\n",
    "\n",
    "X_train, X_test, y_train, y_test = train_test_split(X, Y_sn, test_size=0.2, random_state=20)\n",
    "\n",
    "X_train, X_test, y_train, y_test = train_test_split(X, Y_sv, test_size=0.2, random_state=20)\n",
    "\n",
    "X_train, X_test, y_train, y_test = train_test_split(X, Y_lg, test_size=0.2, random_state=20)\n",
    "\n",
    "X_train, X_test, y_train, y_test = train_test_split(X, Y_ln, test_size=0.2, random_state=20)\n",
    "\n",
    "X_train, X_test, y_train, y_test = train_test_split(X, Y_lv, test_size=0.2, random_state=20)\n",
    "\n",
    "print(Fore.RED + 'With 20% Holdout on Small Growth: ' + str(clf.fit(X_train, y_train).score(X_test, y_test)))\n",
    "print('Testing on Sample on Small Growth: ' + str(clf.fit(X, Y_sg).score(X, Y_sg))+'\\n')\n",
    "\n",
    "print(Fore.GREEN + '\\tWith 20% Holdout on Small Neutral: ' + str(clf.fit(X_train, y_train).score(X_test, y_test)))\n",
    "print('\\tTesting on Sample on Small Neutral: ' + str(clf.fit(X, Y_sn).score(X, Y_sn))+'\\n')\n",
    "\n",
    "print(Fore.BLUE + '\\t\\tWith 20% Holdout on Small Value: ' + str(clf.fit(X_train, y_train).score(X_test, y_test)))\n",
    "print('\\t\\tTesting on Sample on Small Value: ' + str(clf.fit(X, Y_sv).score(X, Y_sv))+'\\n')\n",
    "\n",
    "print(Fore.BLACK + 'With 20% Holdout on Large Growth: ' + str(clf.fit(X_train, y_train).score(X_test, y_test)))\n",
    "print('Testing on Sample on Large Growth: ' + str(clf.fit(X, Y_lg).score(X, Y_lg))+'\\n')\n",
    "\n",
    "print(Fore.MAGENTA + '\\tWith 20% Holdout on Large Neutral: ' + str(clf.fit(X_train, y_train).score(X_test, y_test)))\n",
    "print('\\tTesting on Sample on Large Neutral: ' + str(clf.fit(X, Y_ln).score(X, Y_ln))+'\\n')\n",
    "\n",
    "print(Fore.YELLOW + '\\t\\tWith 20% Holdout on Large Value: ' + str(clf.fit(X_train, y_train).score(X_test, y_test)))\n",
    "print('\\t\\tTesting on Sample on Large Value: ' + str(clf.fit(X, Y_lv).score(X, Y_lv))+'\\n')"
   ]
  },
  {
   "cell_type": "code",
   "execution_count": 66,
   "metadata": {},
   "outputs": [
    {
     "name": "stdout",
     "output_type": "stream",
     "text": [
      "[0.96709667 0.98038695 0.96945061 0.96000365 0.98571941 0.98024473\n",
      " 0.97987619 0.97890909 0.97033362 0.95826845]\n",
      "[0.97729039 0.97922107 0.97745222 0.97831483 0.98742789 0.9886765\n",
      " 0.98855554 0.96312485 0.92398258 0.98430107]\n",
      "[0.99099757 0.99556656 0.99307461 0.9923301  0.98893832 0.98795777\n",
      " 0.9788298  0.97771542 0.98558682 0.98782009]\n",
      "[0.98544716 0.98662195 0.98102967 0.98654743 0.95786234 0.97128295\n",
      " 0.97868443 0.9617401  0.97163087 0.97881675]\n",
      "[0.9594247  0.96127495 0.94379865 0.91255693 0.91598128 0.92280651\n",
      " 0.96444719 0.88259505 0.87380614 0.94450084]\n",
      "[0.97825133 0.9698974  0.9780371  0.95609973 0.95199731 0.96129197\n",
      " 0.96098346 0.93791543 0.94047251 0.94446586]\n"
     ]
    }
   ],
   "source": [
    "# Small Growth Excess Return Portfolio\n",
    "cv_sg = cross_val_score(clf, X, Y_sg, cv=10)\n",
    "print (cv_sg)\n",
    "\n",
    "# Small Neutral Excess Return Portfolio\n",
    "cv_sn = cross_val_score(clf, X, Y_sn, cv=10)\n",
    "print(cv_sn)\n",
    "\n",
    "# Small Value Excess Return Portfolio\n",
    "cv_sv = cross_val_score(clf, X, Y_sv, cv=10)\n",
    "print (cv_sv)\n",
    "\n",
    "# Large Growth Excess Return Portfolio\n",
    "cv_lg = cross_val_score(clf, X, Y_lg, cv=10)\n",
    "print (cv_lg)\n",
    "\n",
    "# Large Neutral Excess Return Portfolio\n",
    "cv_ln = cross_val_score(clf, X, Y_ln, cv=10)\n",
    "print (cv_ln)\n",
    "\n",
    "# Large Value Excess Return Portfolio\n",
    "cv_lv = cross_val_score(clf, X, Y_lv, cv=10)\n",
    "print (cv_lv)"
   ]
  },
  {
   "cell_type": "code",
   "execution_count": 67,
   "metadata": {},
   "outputs": [],
   "source": [
    "# Throw the cross validation results into a dataframe for visualization\n",
    "cv = [cv_sg,cv_sn,cv_sv,cv_lg,cv_ln,cv_lv]\n",
    "df_cv = pd.DataFrame(data=cv)"
   ]
  },
  {
   "cell_type": "code",
   "execution_count": 75,
   "metadata": {},
   "outputs": [
    {
     "data": {
      "text/plain": [
       "[[Text(0,0,'Small Growth'),\n",
       "  Text(0,0,'Small Neutral'),\n",
       "  Text(0,0,'Small Value'),\n",
       "  Text(0,0,'Large Growth'),\n",
       "  Text(0,0,'Large Neutral'),\n",
       "  Text(0,0,'Large Value')]]"
      ]
     },
     "execution_count": 75,
     "metadata": {},
     "output_type": "execute_result"
    },
    {
     "data": {
      "image/png": "[encoded data removed]",
      "text/plain": [
       "<Figure size 432x288 with 1 Axes>"
      ]
     },
     "metadata": {},
     "output_type": "display_data"
    }
   ],
   "source": [
    "sns.set(style=\"whitegrid\")\n",
    "cvs = sns.swarmplot(data=cv, orient='v')\n",
    "plt.ylim(0.0, 1.0)\n",
    "plt.yticks(fontweight='bold',fontsize=12)\n",
    "plt.xticks(rotation=25,fontweight='bold', fontsize=12)\n",
    "plt.ylabel(\"Cross Validation Scores\",fontweight='bold')\n",
    "cvs.set(xticklabels=[\"Small Growth\",\"Small Neutral\",\"Small Value\",\"Large Growth\",\"Large Neutral\",\"Large Value\"])"
   ]
  },
  {
   "cell_type": "markdown",
   "metadata": {},
   "source": [
    "# There is no class imbalance as all outcomes are near equal"
   ]
  },
  {
   "cell_type": "code",
   "execution_count": null,
   "metadata": {},
   "outputs": [],
   "source": []
  }
 ],
 "metadata": {
  "kernelspec": {
   "display_name": "Python 3",
   "language": "python",
   "name": "python3"
  },
  "language_info": {
   "codemirror_mode": {
    "name": "ipython",
    "version": 3
   },
   "file_extension": ".py",
   "mimetype": "text/x-python",
   "name": "python",
   "nbconvert_exporter": "python",
   "pygments_lexer": "ipython3",
   "version": "3.6.4"
  }
 },
 "nbformat": 4,
 "nbformat_minor": 2
}
