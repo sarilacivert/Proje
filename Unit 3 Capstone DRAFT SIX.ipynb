{
 "cells": [
  {
   "cell_type": "markdown",
   "metadata": {},
   "source": [
    "# The Data Science on U.S. Stock Returns with Python Programming"
   ]
  },
  {
   "cell_type": "markdown",
   "metadata": {},
   "source": [
    "\n",
    "\n",
    "\n",
    "# Abstract\n",
    "\n",
    "What drives U.S. Equity Returns? Are there any characteristics that explain the differences in stock returns? Regardless of the time period, can good features illustrate the entire nature of stock prices? \n",
    "\n",
    "For this project, I used multiple linear regression, narrative analytics, class imbalance, cross validation coupled with data visualization. In the domain of supervised learning in data science, where models have a known outcome such as stock market returns, I build the case for the small value company narrative.  I, also address the issue of overfitting for the performance of six portfolios from July 1926 to June 2018, on a monthly frequency, against the three independent drivers of stock returns. Like the entire nature of the U.S. stock returns, the six portfolios will result is a dominant analytical narrative of the U.S. Stock Market with a small value company tilt."
   ]
  },
  {
   "cell_type": "markdown",
   "metadata": {},
   "source": [
    "# Introduction\n",
    "\n",
    "People in the financial markets have long been interested on the background of stock prices. Colloquial and academic theories rise and fall, like stock prices over decades of observations. Progress has been made first with better data, then financial knowledge followed by the science of statistics. Only testable explanations can shed light on the viable understanding on how U.S. stock markets work. Explanations without testing, sooner or later, lead to impracticality with a financial loss. Many scholars and practitioners have been selecting and examining various features, with various test results on the nature of stock market returns. Sometimes beliefs on the stock market do not change with good statistical tests that claim otherwise. Or good intuition on the nature of the stock market have no test results. Nonetheless, there is only one narrative analytics that dominates above the rest.\n",
    "\n",
    "In 2013, Eugene Fama of the University of Chicago, received the Nobel Memorial Prize in Economic Sciences for his life’s work on financial economics. Together with Kenneth French, who was also at the University of Chicago at the time, wrote a seminal research paper on stock market returns in 1993. The Fama – French Three – Factor Model with strong scientific evidence coupled with an outstanding data set used a multiple linear regression model to explain the nature of U.S. stock market returns. Beyond awards, the research paper is one of the most cited research papers in all of academia, i.e. the top 5% of the many thousands according to the reputable Social Science Research Network. Both Fama and French have facilitated the fecundity of feature based investing in the field of financial econometrics. Many academics and professionals in the financial services industry have used the foundation of their model to understand the rates of return in the stock market and have expanded or even altered the features to other products in the financial markets.\n",
    "\n",
    "# Data Selection and Bias\n",
    "\n",
    "Unlike many other business sectors, the financial services industry and its financial data is widely available because there are financial incentives to invest. The free and commercial publishing of stock market information has been around for decades, if not a century, which eases data selection for data scientists. If there are any data discrepancies, gaps or limitations, then there are resources for a remedy funded by financial institutions. Before the formal job title of a Data Engineer, and orginally beginning in 1962, the Center for Research on Security Prices (CRSP) at the University of Chicago have a strong historical stock data set. Originally academic with some help of government and commmericial interests over the decades, the data integrity and the data reliabliity of CRSP, was driven primarily by the financial incentives to invest in the U.S. Stock Market.\n",
    "\n",
    "However, like with all data selection, there can be biases and one in particular required great care to be removed in the initial years, according to CRSP. Survivorship bias, a type of selection bias, is the proclivity of removing failed companies to potentially skew results, usually because of a lack of resources.  Specially, as we shall see later below, small companies who are greater in number, rather than larger companies, have great significance in U.S. stock market returns.  The economics of competition, the business of mismanagement, running out of cash financially are just a few reasons why small companies fail. Officially, the U.S. Bureau of Labor Statistics in March of 2017 claims 20% of small business fail in the first year and 50% fail in the fifth year. Of course, the majority of companies in the U.S. are not public because of the associated costs and risk of business regulations, this theme of small company capture in data sets played an important role for devleloping relevant narrative analytics.  When a successful small company is acquired, then it no longer trades in the stock market, just as a financially troubled small company that go bankrupt.  The former scenario by name and price becomes apart of the acquired company and the latter scenario stops pricing altogether.  If data selection only counted the survivors, that is the companies that exist in name and are in business only, then the representation of small companies would be inaccurate.  \n",
    "\n",
    "# Feature Engineering\n",
    "\n",
    "Beyond data selection and bias, an observer can categorize individual stock returns with various identified features.  The type of industry, geographic location, and other features that may cause researchers to surmise a narrative to develop an argument.  Eugene Fama and Kenneth French chose two endogenous features of the company size, in terms of market capitalization, company style, in terms of book to market ratios, and the overall feature of the market return.\n",
    "\n",
    "A single stock return is the closing price for one business day over the closing price of the prior business day minus one.  Stock prices can be an argument for many functions and the size feature is the price of a single quantity or a share multiplied by the total shares available to trade in the market.  We could select the returns of small companies alone as a feature, but we can go further by taking the returns of low capitalized companies over the return of large capitalized companies.  Before we go any further, let's go to the other feature for an additional layer of logic from the stock price.   \n",
    "\n",
    "The style feature is another argument from the stock price as we take all the individual stock returns and order them by low and high book values.  To elaborate, value is a financial metric made of components like book value and market value. What a company has in assets with what it owes in liabilities is the net worth or book value. It is just a snapshot of current assets minus liabilities and is consistent with current price and current returns.  Separately, market value is a proportional measure of what is available to trade in the market.  Ignoring past share quantities and their past prices, we take the current available price for a single share quantity times the total number of share quantities outstanding.  Market participants buy or sell a stock product of a company as supply and demand drives market value like a vote for value.  Altogether, the book value is the numerator of the ratio and market value is the denominator. Value stocks have greater book values than market values so high book to market ratios.  Low book to market ratios are labeled as growth stocks and in between is neutral.    \n",
    "\n",
    "Both size and style features are treated before analysis to measure outperformance and not as stand alone features.  All of the stock returns are ordered from the smallest capitalization to the largest, split into deciles, then the style feature is captured to produce small value, small neutral, small growth, large value, large neutral and large growth.  A collection of stock returns represents a single portfolio return as the size factor is the average return on the three small portfolios minus the average return on the three big portfolios, respectively.  The sum of small companies across the styles of value, neutral and growth minus the sum of large companies across the styles of value, neutral and growth.  Separately, the style feature is the average return of the value stocks, regardless of size, minus the growth stocks, regardless of size.\n",
    "\n",
    "# Class Imbalance\n",
    "\n",
    "To dig deeper from above, the feature engineering of Fama and French removes the problem of class imbalance as each classification is represented equally in the dataset to yield a better explanation on the outcome of the U.S. stock return universe.  A top down feature allocation into deciles for size followed by halves for style reduces the chances of statistical output errors like false positives or when we think something is true, when it is not.  Small companies outnumber larger companies in the past, currently and very likely in the future so it is easy to draw the problem of class imbalance to distort the explanations of U.S. stock returns.  If for every single large company there are 5 or 10 small companies in your dataset, then it may contribute to a skewed result or false positives in a statistical estimation.  Both Fama and French have 3 classifications for small and 3 classifications for large for the size feature across 3 different styles to remove class imbalance issues.  The same is done for the style feature as it is halved across size with small value and large value on one side and the counterparts on the other.  Further below, we shall see its importance from the model results.  \n",
    "\n",
    "# Market Feature\n",
    "\n",
    "Lastly, the feature of the overall market return to capture clustering and spillover effects by the stock universe.  The index for the U.S. stock market is the value weighted collection of stocks as each single stock is assigned a weight by its size or market capitalization, which in turn, produces proportional returns rolling up to an overall index return.  Unlike market indices by price or equal weighting, the value weighted market index in consistent with the size feature as both capture market capitalization.     \n",
    "\n",
    "# Final Adjustments to the Model\n",
    "\n",
    "An investor can decide not to invest in the U.S. stock market with risk adverse expectations in a risk free instrument like a 90 day U.S. Treasury Bill, i.e. a government security with a rate of return that has been available to investors for many decades.  Only investors who take risk above the conservative risk free U.S. Treasury Bill would invest in the U.S. Stock Market so Fama and French subtracted from the risk free return from the six portfolios or the dependent variable in the model below.  The same with the market feature, an independent variable.  \n",
    "\n",
    "Altogether, the nature of the U.S. stock returns is explained by a dependent variable, the set of six portfolios, individually over the risk free return by a set of three independent variables, which are first, by the market return above the risk free return, second, the return difference of small over large companies returns and third, the return difference of value companies over growth companies."
   ]
  },
  {
   "cell_type": "markdown",
   "metadata": {},
   "source": [
    "# Importing and Setting Up the Model"
   ]
  },
  {
   "cell_type": "code",
   "execution_count": 2,
   "metadata": {},
   "outputs": [],
   "source": [
    "import math\n",
    "import warnings\n",
    "from colorama import Fore\n",
    "\n",
    "from IPython.display import display\n",
    "from matplotlib import pyplot as plt\n",
    "import numpy as np\n",
    "import pandas as pd\n",
    "import seaborn as sns\n",
    "from sklearn import linear_model\n",
    "import statsmodels.formula.api as smf\n",
    "from sklearn.model_selection import cross_val_score\n",
    "from sklearn.model_selection import train_test_split\n",
    "\n",
    "# Display preferences.\n",
    "%matplotlib inline\n",
    "pd.options.display.float_format = '{:.3f}'.format\n",
    "\n",
    "# Suppress annoying harmless error.\n",
    "warnings.filterwarnings(\n",
    "    action=\"ignore\",\n",
    "    module=\"scipy\",\n",
    "    message=\"^internal gelsd\"\n",
    ")"
   ]
  },
  {
   "cell_type": "code",
   "execution_count": 3,
   "metadata": {},
   "outputs": [
    {
     "data": {
      "text/plain": [
       "['Month',\n",
       " 'Mkt-RF',\n",
       " 'SMB',\n",
       " 'HML',\n",
       " 'SMALL LoBM-RF',\n",
       " 'ME1 BM2-RF',\n",
       " 'SMALL HiBM-RF',\n",
       " 'BIG LoBM-RF',\n",
       " 'ME2 BM2-RF',\n",
       " 'BIG HiBM-RF']"
      ]
     },
     "execution_count": 3,
     "metadata": {},
     "output_type": "execute_result"
    }
   ],
   "source": [
    "# Load the file for analysis and view columns\n",
    "\n",
    "df = pd.read_csv('/Users/lacivert/3/ff3f.csv')\n",
    "\n",
    "df = pd.DataFrame(df)\n",
    "\n",
    "list(df.columns.values)"
   ]
  },
  {
   "cell_type": "code",
   "execution_count": 4,
   "metadata": {},
   "outputs": [],
   "source": [
    "# Assign the variables for analysis\n",
    "\n",
    "# Time\n",
    "month = df.loc[:,'Month']\n",
    "\n",
    "# independent factors \n",
    "market_return, small_vs_big, value_vs_growth = df.loc[:,'Mkt-RF'], df.loc[:,'SMB'], df.loc[:,'HML']\n",
    "\n",
    "# dependent factors on small companies across style\n",
    "small_growth_excess_return, small_neutral_excess_return = df.loc[:,'SMALL LoBM-RF'], df.loc[:,'ME1 BM2-RF']\n",
    "\n",
    "small_value_excess_return = df.loc[:,'SMALL HiBM-RF']   \n",
    "\n",
    "# dependent factors on large companies across style \n",
    "large_growth_excess_return, large_neutral_excess_return = df.loc[:,'BIG LoBM-RF'], df.loc[:,'ME2 BM2-RF']\n",
    "\n",
    "large_value_excess_return = df.loc[:,'BIG HiBM-RF']"
   ]
  },
  {
   "cell_type": "code",
   "execution_count": 5,
   "metadata": {},
   "outputs": [
    {
     "data": {
      "text/plain": [
       "(1104, 1104, 1104, 1104, 1104, 1104, 1104, 1104, 1104, 1104)"
      ]
     },
     "execution_count": 5,
     "metadata": {},
     "output_type": "execute_result"
    }
   ],
   "source": [
    "# Sanity check for length\n",
    "len(month), len(market_return), len(small_vs_big), len(value_vs_growth),len(small_growth_excess_return), len(small_neutral_excess_return), len(small_value_excess_return),len(large_growth_excess_return), len(large_neutral_excess_return), len(large_value_excess_return)"
   ]
  },
  {
   "cell_type": "code",
   "execution_count": 6,
   "metadata": {},
   "outputs": [
    {
     "data": {
      "text/html": [
       "<div>\n",
       "<style scoped>\n",
       "    .dataframe tbody tr th:only-of-type {\n",
       "        vertical-align: middle;\n",
       "    }\n",
       "\n",
       "    .dataframe tbody tr th {\n",
       "        vertical-align: top;\n",
       "    }\n",
       "\n",
       "    .dataframe thead th {\n",
       "        text-align: right;\n",
       "    }\n",
       "</style>\n",
       "<table border=\"1\" class=\"dataframe\">\n",
       "  <thead>\n",
       "    <tr style=\"text-align: right;\">\n",
       "      <th></th>\n",
       "      <th>Market_Risk_Factor</th>\n",
       "      <th>Size_Risk_Factor</th>\n",
       "      <th>Style_Risk_Factor</th>\n",
       "    </tr>\n",
       "  </thead>\n",
       "  <tbody>\n",
       "    <tr>\n",
       "      <th>count</th>\n",
       "      <td>1104.000</td>\n",
       "      <td>1104.000</td>\n",
       "      <td>1104.000</td>\n",
       "    </tr>\n",
       "    <tr>\n",
       "      <th>mean</th>\n",
       "      <td>0.662</td>\n",
       "      <td>0.216</td>\n",
       "      <td>0.373</td>\n",
       "    </tr>\n",
       "    <tr>\n",
       "      <th>std</th>\n",
       "      <td>5.332</td>\n",
       "      <td>3.200</td>\n",
       "      <td>3.490</td>\n",
       "    </tr>\n",
       "    <tr>\n",
       "      <th>min</th>\n",
       "      <td>-29.130</td>\n",
       "      <td>-17.280</td>\n",
       "      <td>-13.280</td>\n",
       "    </tr>\n",
       "    <tr>\n",
       "      <th>25%</th>\n",
       "      <td>-1.970</td>\n",
       "      <td>-1.560</td>\n",
       "      <td>-1.305</td>\n",
       "    </tr>\n",
       "    <tr>\n",
       "      <th>50%</th>\n",
       "      <td>1.015</td>\n",
       "      <td>0.080</td>\n",
       "      <td>0.155</td>\n",
       "    </tr>\n",
       "    <tr>\n",
       "      <th>75%</th>\n",
       "      <td>3.635</td>\n",
       "      <td>1.745</td>\n",
       "      <td>1.732</td>\n",
       "    </tr>\n",
       "    <tr>\n",
       "      <th>max</th>\n",
       "      <td>38.850</td>\n",
       "      <td>36.700</td>\n",
       "      <td>35.460</td>\n",
       "    </tr>\n",
       "  </tbody>\n",
       "</table>\n",
       "</div>"
      ],
      "text/plain": [
       "       Market_Risk_Factor  Size_Risk_Factor  Style_Risk_Factor\n",
       "count            1104.000          1104.000           1104.000\n",
       "mean                0.662             0.216              0.373\n",
       "std                 5.332             3.200              3.490\n",
       "min               -29.130           -17.280            -13.280\n",
       "25%                -1.970            -1.560             -1.305\n",
       "50%                 1.015             0.080              0.155\n",
       "75%                 3.635             1.745              1.732\n",
       "max                38.850            36.700             35.460"
      ]
     },
     "execution_count": 6,
     "metadata": {},
     "output_type": "execute_result"
    }
   ],
   "source": [
    "# Subset of Inpendent Variables\n",
    "\n",
    "three = [market_return, small_vs_big, value_vs_growth]\n",
    "\n",
    "df_three = pd.DataFrame(data=three)\n",
    "\n",
    "df_three.reset_index()\n",
    "\n",
    "df_independent_factors = df_three.transpose()\n",
    "\n",
    "df_independent_factors.rename (columns={'Mkt-RF' : 'Market_Risk_Factor'}, inplace=True)\n",
    "\n",
    "df_independent_factors.rename (columns={'SMB' : 'Size_Risk_Factor'}, inplace=True)\n",
    "\n",
    "df_independent_factors.rename (columns={'HML' : 'Style_Risk_Factor'}, inplace=True)\n",
    "\n",
    "df_independent_factors.describe()"
   ]
  },
  {
   "cell_type": "markdown",
   "metadata": {},
   "source": [
    "# Correlation Matrix of Independent Factors\n",
    "\n",
    "A relevant and robust model would have explanatory factors that are independent of each other so each feature can explain their effect on the U.S. Stock Market without interference. The near zero figures below add explanatory value of U.S. stock market returns as each contribute the nature of the U.S. stock market."
   ]
  },
  {
   "cell_type": "code",
   "execution_count": 7,
   "metadata": {},
   "outputs": [
    {
     "data": {
      "text/plain": [
       "Text(0.5,1,'Correlation Matrix Heatmap of Independent Risk Factors\\nMonthly Frequency of July 1926 to June 2018')"
      ]
     },
     "execution_count": 7,
     "metadata": {},
     "output_type": "execute_result"
    },
    {
     "data": {
      "image/png": "[encoded data removed]",
      "text/plain": [
       "<Figure size 792x648 with 2 Axes>"
      ]
     },
     "metadata": {},
     "output_type": "display_data"
    }
   ],
   "source": [
    "# Generate a correlation matrix function and assign it\n",
    "corr = df_independent_factors.corr()\n",
    "\n",
    "# Generate a mask for the upper triangle\n",
    "mask = np.zeros_like(corr, dtype=np.bool)\n",
    "mask[np.triu_indices_from(mask)] = True\n",
    "\n",
    "# Set up the matplotlib figure\n",
    "f, ax = plt.subplots(figsize=(11, 9))\n",
    "\n",
    "# Generate a custom diverging colormap\n",
    "cmap = sns.diverging_palette(220, 10, as_cmap=True)\n",
    "\n",
    "# Draw the heatmap with the mask and correct aspect ratio\n",
    "sns.heatmap(corr, mask=mask, cmap='Spectral', vmax=.3, center=0, annot_kws={\"size\": 20}, \n",
    "            square=True, annot=True, linewidths=.5, cbar_kws={\"shrink\": .7})\n",
    "\n",
    "# Make it readable and nice\n",
    "plt.yticks(rotation=0, fontweight='bold', fontsize=14)\n",
    "plt.xticks(fontweight='bold', fontsize=14)\n",
    "plt.title('Correlation Matrix Heatmap of Independent Risk Factors\\nMonthly Frequency of July 1926 to June 2018'\n",
    "          , fontweight='bold', fontsize=15,color='k')"
   ]
  },
  {
   "cell_type": "markdown",
   "metadata": {},
   "source": [
    "# Another Visual of the 3 Independent Risk Factors Below"
   ]
  },
  {
   "cell_type": "code",
   "execution_count": 8,
   "metadata": {},
   "outputs": [
    {
     "data": {
      "text/plain": [
       "<matplotlib.legend.Legend at 0x11092a160>"
      ]
     },
     "execution_count": 8,
     "metadata": {},
     "output_type": "execute_result"
    },
    {
     "data": {
      "image/png": "[encoded data removed]",
      "text/plain": [
       "<Figure size 432x288 with 1 Axes>"
      ]
     },
     "metadata": {},
     "output_type": "display_data"
    }
   ],
   "source": [
    "sns.distplot(market_return,label='Market Risk Factor',hist=False)\n",
    "sns.distplot(small_vs_big,label='Size Risk Factor',hist=False)\n",
    "sns.distplot(value_vs_growth, label='Style Risk Factor',hist=False)\n",
    "plt.xlabel('Three Independent Risk Factors',color='green')\n",
    "plt.ylabel('Number of Observations',color='green')\n",
    "plt.title('Monthly Distplot July 1926 - June 2018', color='green')\n",
    "plt.legend()"
   ]
  },
  {
   "cell_type": "markdown",
   "metadata": {},
   "source": [
    "# Subset of 6 Portfolio Returns or Dependent Variables"
   ]
  },
  {
   "cell_type": "code",
   "execution_count": 9,
   "metadata": {},
   "outputs": [
    {
     "data": {
      "text/html": [
       "<div>\n",
       "<style scoped>\n",
       "    .dataframe tbody tr th:only-of-type {\n",
       "        vertical-align: middle;\n",
       "    }\n",
       "\n",
       "    .dataframe tbody tr th {\n",
       "        vertical-align: top;\n",
       "    }\n",
       "\n",
       "    .dataframe thead th {\n",
       "        text-align: right;\n",
       "    }\n",
       "</style>\n",
       "<table border=\"1\" class=\"dataframe\">\n",
       "  <thead>\n",
       "    <tr style=\"text-align: right;\">\n",
       "      <th></th>\n",
       "      <th>Small_Growth</th>\n",
       "      <th>Small_Neutral</th>\n",
       "      <th>Small_Value</th>\n",
       "      <th>Large_Growth</th>\n",
       "      <th>Large_Neutral</th>\n",
       "      <th>Large_Value</th>\n",
       "    </tr>\n",
       "  </thead>\n",
       "  <tbody>\n",
       "    <tr>\n",
       "      <th>count</th>\n",
       "      <td>1104.000</td>\n",
       "      <td>1104.000</td>\n",
       "      <td>1104.000</td>\n",
       "      <td>1104.000</td>\n",
       "      <td>1104.000</td>\n",
       "      <td>1104.000</td>\n",
       "    </tr>\n",
       "    <tr>\n",
       "      <th>mean</th>\n",
       "      <td>0.717</td>\n",
       "      <td>0.987</td>\n",
       "      <td>1.193</td>\n",
       "      <td>0.646</td>\n",
       "      <td>0.687</td>\n",
       "      <td>0.917</td>\n",
       "    </tr>\n",
       "    <tr>\n",
       "      <th>std</th>\n",
       "      <td>7.510</td>\n",
       "      <td>6.961</td>\n",
       "      <td>8.127</td>\n",
       "      <td>5.286</td>\n",
       "      <td>5.653</td>\n",
       "      <td>7.120</td>\n",
       "    </tr>\n",
       "    <tr>\n",
       "      <th>min</th>\n",
       "      <td>-32.969</td>\n",
       "      <td>-30.082</td>\n",
       "      <td>-33.859</td>\n",
       "      <td>-28.897</td>\n",
       "      <td>-28.179</td>\n",
       "      <td>-35.143</td>\n",
       "    </tr>\n",
       "    <tr>\n",
       "      <th>25%</th>\n",
       "      <td>-3.272</td>\n",
       "      <td>-2.134</td>\n",
       "      <td>-2.314</td>\n",
       "      <td>-2.031</td>\n",
       "      <td>-1.873</td>\n",
       "      <td>-2.245</td>\n",
       "    </tr>\n",
       "    <tr>\n",
       "      <th>50%</th>\n",
       "      <td>0.976</td>\n",
       "      <td>1.227</td>\n",
       "      <td>1.280</td>\n",
       "      <td>0.993</td>\n",
       "      <td>0.935</td>\n",
       "      <td>1.109</td>\n",
       "    </tr>\n",
       "    <tr>\n",
       "      <th>75%</th>\n",
       "      <td>4.742</td>\n",
       "      <td>4.320</td>\n",
       "      <td>4.598</td>\n",
       "      <td>3.588</td>\n",
       "      <td>3.200</td>\n",
       "      <td>4.088</td>\n",
       "    </tr>\n",
       "    <tr>\n",
       "      <th>max</th>\n",
       "      <td>59.898</td>\n",
       "      <td>62.157</td>\n",
       "      <td>83.545</td>\n",
       "      <td>33.639</td>\n",
       "      <td>51.793</td>\n",
       "      <td>67.755</td>\n",
       "    </tr>\n",
       "  </tbody>\n",
       "</table>\n",
       "</div>"
      ],
      "text/plain": [
       "       Small_Growth  Small_Neutral  Small_Value  Large_Growth  Large_Neutral  \\\n",
       "count      1104.000       1104.000     1104.000      1104.000       1104.000   \n",
       "mean          0.717          0.987        1.193         0.646          0.687   \n",
       "std           7.510          6.961        8.127         5.286          5.653   \n",
       "min         -32.969        -30.082      -33.859       -28.897        -28.179   \n",
       "25%          -3.272         -2.134       -2.314        -2.031         -1.873   \n",
       "50%           0.976          1.227        1.280         0.993          0.935   \n",
       "75%           4.742          4.320        4.598         3.588          3.200   \n",
       "max          59.898         62.157       83.545        33.639         51.793   \n",
       "\n",
       "       Large_Value  \n",
       "count     1104.000  \n",
       "mean         0.917  \n",
       "std          7.120  \n",
       "min        -35.143  \n",
       "25%         -2.245  \n",
       "50%          1.109  \n",
       "75%          4.088  \n",
       "max         67.755  "
      ]
     },
     "execution_count": 9,
     "metadata": {},
     "output_type": "execute_result"
    }
   ],
   "source": [
    "six = [small_growth_excess_return, small_neutral_excess_return, small_value_excess_return, large_growth_excess_return, large_neutral_excess_return, large_value_excess_return]\n",
    "\n",
    "df_six = pd.DataFrame(data=six)\n",
    "\n",
    "df_six.reset_index()\n",
    "\n",
    "df_dependent_factors = df_six.transpose()\n",
    "\n",
    "df_dependent_factors.rename (columns={'SMALL LoBM-RF' : 'Small_Growth'}, inplace=True)\n",
    "\n",
    "df_dependent_factors.rename (columns={'ME1 BM2-RF' : 'Small_Neutral'}, inplace=True)\n",
    "\n",
    "df_dependent_factors.rename (columns={'SMALL HiBM-RF' : 'Small_Value'}, inplace=True)\n",
    "\n",
    "df_dependent_factors.rename (columns={'BIG LoBM-RF' : 'Large_Growth'}, inplace=True)\n",
    "\n",
    "df_dependent_factors.rename (columns={'ME2 BM2-RF' : 'Large_Neutral'}, inplace=True)\n",
    "\n",
    "df_dependent_factors.rename (columns={'BIG HiBM-RF' : 'Large_Value'}, inplace=True)\n",
    "\n",
    "df_dependent_factors.describe()"
   ]
  },
  {
   "cell_type": "markdown",
   "metadata": {},
   "source": [
    "# Correlation Matrix of Portfolios\n",
    "\n",
    "Similar return behavior of the six portfolios provides an overall view of the nature of the U.S. Stock Market Returns as the figures below are closer to one.  As no segment can be isolated to demonstrate class imbalance."
   ]
  },
  {
   "cell_type": "code",
   "execution_count": 10,
   "metadata": {},
   "outputs": [
    {
     "data": {
      "text/plain": [
       "Text(0.5,1,'Correlation Matrix Heatmap of Six Portfolios\\nMonthly Frequency of July 1926 to June 2018')"
      ]
     },
     "execution_count": 10,
     "metadata": {},
     "output_type": "execute_result"
    },
    {
     "data": {
      "image/png": "[encoded data removed]",
      "text/plain": [
       "<Figure size 792x648 with 2 Axes>"
      ]
     },
     "metadata": {},
     "output_type": "display_data"
    }
   ],
   "source": [
    "# Generate a correlation matrix function and assign it\n",
    "corr = df_dependent_factors.corr()\n",
    "\n",
    "# Generate a mask for the upper triangle\n",
    "mask = np.zeros_like(corr, dtype=np.bool)\n",
    "mask[np.triu_indices_from(mask)] = True\n",
    "\n",
    "# Set up the matplotlib figure\n",
    "f, ax = plt.subplots(figsize=(11, 9))\n",
    "\n",
    "# Generate a custom diverging colormap\n",
    "cmap = sns.diverging_palette(220, 10, as_cmap=True)\n",
    "\n",
    "# Draw the heatmap with the mask and correct aspect ratio\n",
    "sns.heatmap(corr, mask=mask, cmap='Spectral', vmax=.3, center=0, annot_kws={\"size\": 20}, \n",
    "            square=True, annot=True, linewidths=.5, cbar_kws={\"shrink\": .7})\n",
    "\n",
    "# Make it readable and nice\n",
    "plt.yticks(rotation=0, fontweight='bold', fontsize=12)\n",
    "plt.xticks(rotation=25,fontweight='bold', fontsize=12)\n",
    "plt.title('Correlation Matrix Heatmap of Six Portfolios\\nMonthly Frequency of July 1926 to June 2018'\n",
    "          , fontweight='bold', fontsize=15,color='k')"
   ]
  },
  {
   "cell_type": "markdown",
   "metadata": {},
   "source": [
    "# Running the Regressions below . . .\n",
    "\n",
    "The chosen model is a multiple regression so let’s build the model simply and then propagate to view the complete picture.  For now, let’s drop two of three of the independent variables such as the market return and the style feature.  Let us try to understand the left over size feature and its relationship to drive U.S. stock market returns with a best fit regression line.\n",
    "Estimating the relationship involves three components, which are an intercept, slope and an error term is the data science of supervised learning via errors.  "
   ]
  },
  {
   "cell_type": "code",
   "execution_count": 21,
   "metadata": {},
   "outputs": [],
   "source": [
    "# Assign variables for the regressions\n",
    "\n",
    "X = df[['Mkt-RF','SMB', 'HML']]\n",
    "\n",
    "Y_sg = df['SMALL LoBM-RF']\n",
    "\n",
    "Y_sn = df['ME1 BM2-RF']\n",
    "\n",
    "Y_sv = df['SMALL HiBM-RF']\n",
    "\n",
    "Y_lg = df['BIG LoBM-RF']\n",
    "\n",
    "Y_ln = df['ME2 BM2-RF']\n",
    "\n",
    "Y_lv = df['BIG HiBM-RF']"
   ]
  },
  {
   "cell_type": "code",
   "execution_count": 28,
   "metadata": {},
   "outputs": [],
   "source": [
    "# Regression Class to use 6 times for the 6 portfolios\n",
    "class Regression:\n",
    "    def __init__ (self, Xobject, Yobject):\n",
    "        self.Xobject = Xobject\n",
    "        self.Yobject = Yobject\n",
    "    def regress(self, Xobject, Yobject):\n",
    "        from sklearn import linear_model\n",
    "        regr = linear_model.LinearRegression()\n",
    "        regr.fit(Xobject, Yobject)\n",
    "        print('\\n\\tCoefficients: ', regr.coef_)\n",
    "        print('\\n\\tIntercept: ', regr.intercept_)\n",
    "        print('\\n\\tR-squared:',  regr.score(Xobject, Yobject))"
   ]
  },
  {
   "cell_type": "code",
   "execution_count": 29,
   "metadata": {},
   "outputs": [],
   "source": [
    "small_growth_regression = Regression(X,Y_sg)"
   ]
  },
  {
   "cell_type": "code",
   "execution_count": 30,
   "metadata": {},
   "outputs": [
    {
     "name": "stdout",
     "output_type": "stream",
     "text": [
      "\n",
      "\tCoefficients:  [ 1.08845865  1.03733551 -0.19204224]\n",
      "\n",
      "\tIntercept:  -0.15607637648846318\n",
      "\n",
      "\tR-squared: 0.9747660850232415\n"
     ]
    }
   ],
   "source": [
    "small_growth_regression.regress(X,Y_sg)"
   ]
  },
  {
   "cell_type": "code",
   "execution_count": 31,
   "metadata": {},
   "outputs": [],
   "source": [
    "small_neutral_regression = Regression(X,Y_sn)"
   ]
  },
  {
   "cell_type": "code",
   "execution_count": 33,
   "metadata": {},
   "outputs": [
    {
     "name": "stdout",
     "output_type": "stream",
     "text": [
      "\n",
      "\tCoefficients:  [0.98371966 0.81945716 0.29526846]\n",
      "\n",
      "\tIntercept:  0.04864523246355379\n",
      "\n",
      "\tR-squared: 0.978069909822615\n"
     ]
    }
   ],
   "source": [
    "small_neutral_regression.regress(X,Y_sn)"
   ]
  },
  {
   "cell_type": "code",
   "execution_count": null,
   "metadata": {},
   "outputs": [],
   "source": []
  }
 ],
 "metadata": {
  "kernelspec": {
   "display_name": "Python 3",
   "language": "python",
   "name": "python3"
  },
  "language_info": {
   "codemirror_mode": {
    "name": "ipython",
    "version": 3
   },
   "file_extension": ".py",
   "mimetype": "text/x-python",
   "name": "python",
   "nbconvert_exporter": "python",
   "pygments_lexer": "ipython3",
   "version": "3.6.4"
  }
 },
 "nbformat": 4,
 "nbformat_minor": 2
}
