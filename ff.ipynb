{
 "cells": [
  {
   "cell_type": "code",
   "execution_count": 35,
   "metadata": {},
   "outputs": [],
   "source": [
    "import math\n",
    "import warnings\n",
    "\n",
    "from IPython.display import display\n",
    "from matplotlib import pyplot as plt\n",
    "import numpy as np\n",
    "import pandas as pd\n",
    "import seaborn as sns\n",
    "from sklearn import linear_model\n",
    "import statsmodels.formula.api as smf\n",
    "\n",
    "# Display preferences.\n",
    "%matplotlib inline\n",
    "pd.options.display.float_format = '{:.3f}'.format\n",
    "\n",
    "# Suppress annoying harmless error.\n",
    "warnings.filterwarnings(\n",
    "    action=\"ignore\",\n",
    "    module=\"scipy\",\n",
    "    message=\"^internal gelsd\"\n",
    ")"
   ]
  },
  {
   "cell_type": "code",
   "execution_count": 36,
   "metadata": {},
   "outputs": [
    {
     "data": {
      "text/plain": [
       "['Mkt-RF',\n",
       " 'SMB',\n",
       " 'HML',\n",
       " 'SMALL LoBM-RF',\n",
       " 'ME1 BM2-RF',\n",
       " 'SMALL HiBM-RF',\n",
       " 'BIG LoBM-RF',\n",
       " 'ME2 BM2-RF',\n",
       " 'BIG HiBM-RF',\n",
       " 'RF']"
      ]
     },
     "execution_count": 36,
     "metadata": {},
     "output_type": "execute_result"
    }
   ],
   "source": [
    "df = pd.read_csv('/Users/johfoxwo/Documents/ff3.csv')\n",
    "\n",
    "df = pd.DataFrame(df)\n",
    "\n",
    "list(df.columns.values)"
   ]
  },
  {
   "cell_type": "code",
   "execution_count": 37,
   "metadata": {},
   "outputs": [],
   "source": [
    "# independent factors \n",
    "market_return, small_vs_big, value_vs_growth = df.loc[:,'Mkt-RF'], df.loc[:,'SMB'], df.loc[:,'HML']\n",
    "\n",
    "# dependent factors on small companies across style\n",
    "small_growth_excess_return, small_neutral_excess_return = df.loc[:,'SMALL LoBM-RF'], df.loc[:,'ME1 BM2-RF']\n",
    "\n",
    "small_value_excess_return = df.loc[:,'SMALL HiBM-RF']   \n",
    "\n",
    "# dependent factors on large companies across style \n",
    "large_growth_excess_return, large_neutral_excess_return = df.loc[:,'BIG LoBM-RF'], df.loc[:,'ME2 BM2-RF']\n",
    "\n",
    "large_value_excess_return = df.loc[:,'BIG HiBM-RF']\n",
    "\n"
   ]
  },
  {
   "cell_type": "code",
   "execution_count": 38,
   "metadata": {
    "scrolled": true
   },
   "outputs": [
    {
     "data": {
      "text/plain": [
       "(1104, 1104, 1104, 1104, 1104, 1104, 1104, 1104, 1104)"
      ]
     },
     "execution_count": 38,
     "metadata": {},
     "output_type": "execute_result"
    }
   ],
   "source": [
    "len(market_return), len(small_vs_big), len(value_vs_growth),len(small_growth_excess_return), len(small_neutral_excess_return), len(small_value_excess_return),len(large_growth_excess_return), len(large_neutral_excess_return), len(large_value_excess_return)"
   ]
  },
  {
   "cell_type": "code",
   "execution_count": 51,
   "metadata": {},
   "outputs": [
    {
     "name": "stdout",
     "output_type": "stream",
     "text": [
      "\n",
      "Small Growth Portfolio Excess Return on 3 Factors\n",
      "\n",
      "Coefficients: \n",
      " [ 1.08845865  1.03733551 -0.19204224]\n",
      "\n",
      "Intercept: \n",
      " -0.1560763764884633\n",
      "\n",
      "R-squared:\n",
      "0.9747660850232415\n"
     ]
    }
   ],
   "source": [
    "regr = linear_model.LinearRegression()\n",
    "Y = df['SMALL LoBM-RF']\n",
    "X = df[['Mkt-RF','SMB', 'HML']]\n",
    "regr.fit(X, Y)\n",
    "\n",
    "print('\\nSmall Growth Portfolio Excess Return on 3 Factors')\n",
    "print('\\nCoefficients: \\n', regr.coef_)\n",
    "print('\\nIntercept: \\n', regr.intercept_)\n",
    "print('\\nR-squared:')\n",
    "print(regr.score(X, Y))\n",
    "\n",
    "small_growth_coeffs = regr.coef_\n",
    "small_growth_alpha = regr.intercept_\n",
    "small_growth_rsqrd = regr.score(X, Y)"
   ]
  },
  {
   "cell_type": "code",
   "execution_count": 58,
   "metadata": {},
   "outputs": [
    {
     "name": "stdout",
     "output_type": "stream",
     "text": [
      "\n",
      "Small Neutral Portfolio Excess Return on 3 Factors\n",
      "\n",
      "Coefficients: \n",
      " [0.98371966 0.81945716 0.29526846]\n",
      "\n",
      "Intercept: \n",
      " 0.04864523246355368\n",
      "\n",
      "R-squared:\n",
      "0.978069909822615\n"
     ]
    }
   ],
   "source": [
    "regr = linear_model.LinearRegression()\n",
    "Y = df['ME1 BM2-RF']\n",
    "X = df[['Mkt-RF','SMB', 'HML']]\n",
    "regr.fit(X, Y)\n",
    "\n",
    "print('\\nSmall Neutral Portfolio Excess Return on 3 Factors')\n",
    "print('\\nCoefficients: \\n', regr.coef_)\n",
    "print('\\nIntercept: \\n', regr.intercept_)\n",
    "print('\\nR-squared:')\n",
    "print(regr.score(X, Y))\n",
    "\n",
    "small_neutral_coeffs = regr.coef_\n",
    "small_neutral_alpha = regr.intercept_\n",
    "small_neutral_rsqrd = regr.score(X, Y)"
   ]
  },
  {
   "cell_type": "code",
   "execution_count": 59,
   "metadata": {},
   "outputs": [
    {
     "name": "stdout",
     "output_type": "stream",
     "text": [
      "\n",
      "Small Value Portfolio Excess Return on 3 Factors\n",
      "\n",
      "Coefficients: \n",
      " [1.02339806 0.92902604 0.78638082]\n",
      "\n",
      "Intercept: \n",
      " 0.021218161850596662\n",
      "\n",
      "R-squared:\n",
      "0.9921284459293503\n"
     ]
    }
   ],
   "source": [
    "regr = linear_model.LinearRegression()\n",
    "Y = df['SMALL HiBM-RF']\n",
    "X = df[['Mkt-RF','SMB', 'HML']]\n",
    "regr.fit(X, Y)\n",
    "\n",
    "print('\\nSmall Value Portfolio Excess Return on 3 Factors')\n",
    "print('\\nCoefficients: \\n', regr.coef_)\n",
    "print('\\nIntercept: \\n', regr.intercept_)\n",
    "print('\\nR-squared:')\n",
    "print(regr.score(X, Y))\n",
    "\n",
    "small_value_coeffs = regr.coef_\n",
    "small_value_alpha = regr.intercept_\n",
    "small_value_rsqrd = regr.score(X, Y)"
   ]
  },
  {
   "cell_type": "code",
   "execution_count": 60,
   "metadata": {},
   "outputs": [
    {
     "name": "stdout",
     "output_type": "stream",
     "text": [
      "\n",
      "Large Growth Portfolio Excess Return on 3 Factors\n",
      "\n",
      "Coefficients: \n",
      " [ 1.02221942 -0.0919116  -0.22922249]\n",
      "\n",
      "Intercept: \n",
      " 0.07479212176192873\n",
      "\n",
      "R-squared:\n",
      "0.9811419118782503\n"
     ]
    }
   ],
   "source": [
    "regr = linear_model.LinearRegression()\n",
    "Y = df['BIG LoBM-RF']\n",
    "X = df[['Mkt-RF','SMB', 'HML']]\n",
    "regr.fit(X, Y)\n",
    "\n",
    "print('\\nLarge Growth Portfolio Excess Return on 3 Factors')\n",
    "print('\\nCoefficients: \\n', regr.coef_)\n",
    "print('\\nIntercept: \\n', regr.intercept_)\n",
    "print('\\nR-squared:')\n",
    "print(regr.score(X, Y))\n",
    "\n",
    "large_growth_coeffs = regr.coef_\n",
    "large_growth_alpha = regr.intercept_\n",
    "large_growth_rsqrd = regr.score(X, Y)"
   ]
  },
  {
   "cell_type": "code",
   "execution_count": 61,
   "metadata": {},
   "outputs": [
    {
     "name": "stdout",
     "output_type": "stream",
     "text": [
      "\n",
      "Large Neutral Portfolio Excess Return on 3 Factors\n",
      "\n",
      "Coefficients: \n",
      " [ 0.98611766 -0.13876716  0.32642338]\n",
      "\n",
      "Intercept: \n",
      " -0.05836561347473268\n",
      "\n",
      "R-squared:\n",
      "0.9508277054882855\n"
     ]
    }
   ],
   "source": [
    "regr = linear_model.LinearRegression()\n",
    "Y = df['ME2 BM2-RF']\n",
    "X = df[['Mkt-RF','SMB', 'HML']]\n",
    "regr.fit(X, Y)\n",
    "\n",
    "print('\\nLarge Neutral Portfolio Excess Return on 3 Factors')\n",
    "print('\\nCoefficients: \\n', regr.coef_)\n",
    "print('\\nIntercept: \\n', regr.intercept_)\n",
    "print('\\nR-squared:')\n",
    "print(regr.score(X, Y))\n",
    "\n",
    "large_neutral_coeffs = regr.coef_\n",
    "large_neutral_alpha = regr.intercept_\n",
    "large_neutral_rsqrd = regr.score(X, Y)"
   ]
  },
  {
   "cell_type": "code",
   "execution_count": 63,
   "metadata": {},
   "outputs": [
    {
     "name": "stdout",
     "output_type": "stream",
     "text": [
      "\n",
      "Large Value Portfolio Excess Return on 3 Factors\n",
      "\n",
      "Coefficients: \n",
      " [1.08727363 0.01648414 0.7924494 ]\n",
      "\n",
      "Intercept: \n",
      " -0.10269597287521437\n",
      "\n",
      "R-squared:\n",
      "0.9686486651506865\n"
     ]
    }
   ],
   "source": [
    "regr = linear_model.LinearRegression()\n",
    "Y = df['BIG HiBM-RF']\n",
    "X = df[['Mkt-RF','SMB', 'HML']]\n",
    "regr.fit(X, Y)\n",
    "\n",
    "print('\\nLarge Value Portfolio Excess Return on 3 Factors')\n",
    "print('\\nCoefficients: \\n', regr.coef_)\n",
    "print('\\nIntercept: \\n', regr.intercept_)\n",
    "print('\\nR-squared:')\n",
    "print(regr.score(X, Y))\n",
    "\n",
    "large_value_coeffs = regr.coef_\n",
    "large_value_alpha = regr.intercept_\n",
    "large_value_rsqrd = regr.score(X, Y)"
   ]
  },
  {
   "cell_type": "code",
   "execution_count": 64,
   "metadata": {},
   "outputs": [
    {
     "data": {
      "text/plain": [
       "(array([ 1.08845865,  1.03733551, -0.19204224]),\n",
       " array([0.98371966, 0.81945716, 0.29526846]),\n",
       " array([1.02339806, 0.92902604, 0.78638082]),\n",
       " array([ 1.02221942, -0.0919116 , -0.22922249]),\n",
       " array([ 0.98611766, -0.13876716,  0.32642338]),\n",
       " array([1.08727363, 0.01648414, 0.7924494 ]))"
      ]
     },
     "execution_count": 64,
     "metadata": {},
     "output_type": "execute_result"
    }
   ],
   "source": [
    "small_growth_coeffs, small_neutral_coeffs, small_value_coeffs, large_growth_coeffs, large_neutral_coeffs, large_value_coeffs"
   ]
  },
  {
   "cell_type": "code",
   "execution_count": 65,
   "metadata": {},
   "outputs": [
    {
     "data": {
      "text/plain": [
       "(-0.1560763764884633,\n",
       " 0.04864523246355368,\n",
       " 0.021218161850596662,\n",
       " 0.07479212176192873,\n",
       " -0.05836561347473268,\n",
       " -0.10269597287521437)"
      ]
     },
     "execution_count": 65,
     "metadata": {},
     "output_type": "execute_result"
    }
   ],
   "source": [
    "small_growth_alpha, small_neutral_alpha, small_value_alpha, large_growth_alpha, large_neutral_alpha, large_value_alpha"
   ]
  },
  {
   "cell_type": "code",
   "execution_count": 66,
   "metadata": {},
   "outputs": [
    {
     "data": {
      "text/plain": [
       "(0.9747660850232415,\n",
       " 0.978069909822615,\n",
       " 0.9921284459293503,\n",
       " 0.9811419118782503,\n",
       " 0.9508277054882855,\n",
       " 0.9686486651506865)"
      ]
     },
     "execution_count": 66,
     "metadata": {},
     "output_type": "execute_result"
    }
   ],
   "source": [
    "small_growth_rsqrd, small_neutral_rsqrd, small_value_rsqrd, large_growth_rsqrd, large_neutral_rsqrd, large_value_rsqrd"
   ]
  },
  {
   "cell_type": "code",
   "execution_count": null,
   "metadata": {},
   "outputs": [],
   "source": []
  }
 ],
 "metadata": {
  "kernelspec": {
   "display_name": "Python 3",
   "language": "python",
   "name": "python3"
  },
  "language_info": {
   "codemirror_mode": {
    "name": "ipython",
    "version": 3
   },
   "file_extension": ".py",
   "mimetype": "text/x-python",
   "name": "python",
   "nbconvert_exporter": "python",
   "pygments_lexer": "ipython3",
   "version": "3.6.5"
  }
 },
 "nbformat": 4,
 "nbformat_minor": 2
}
