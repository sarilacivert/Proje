{
 "cells": [
  {
   "cell_type": "code",
   "execution_count": 97,
   "metadata": {},
   "outputs": [],
   "source": [
    "import numpy as np\n",
    "import pandas as pd\n",
    "import seaborn as sns\n",
    "import matplotlib.pyplot as plt\n",
    "sns.set(style=\"white\", rc={\"axes.facecolor\": (0, 0, 0, 0)})"
   ]
  },
  {
   "cell_type": "code",
   "execution_count": 98,
   "metadata": {},
   "outputs": [],
   "source": [
    "# load the data\n",
    "sample_ccy = pd.read_csv('/Users/johfoxwo/Documents/ccy.csv')"
   ]
  },
  {
   "cell_type": "code",
   "execution_count": 99,
   "metadata": {},
   "outputs": [],
   "source": [
    "# Assign DataFrame\n",
    "df = pd.DataFrame(sample_ccy)"
   ]
  },
  {
   "cell_type": "code",
   "execution_count": 100,
   "metadata": {},
   "outputs": [
    {
     "data": {
      "text/plain": [
       "['4 Jan 1999 - 27 July 2018',\n",
       " 'EUR/USD',\n",
       " 'USD/JPY',\n",
       " 'GBP/USD',\n",
       " 'AUD/USD',\n",
       " 'USD/CAD']"
      ]
     },
     "execution_count": 100,
     "metadata": {},
     "output_type": "execute_result"
    }
   ],
   "source": [
    "# List column names to display the variables for anaylsis\n",
    "list(df.columns.values)"
   ]
  },
  {
   "cell_type": "code",
   "execution_count": 101,
   "metadata": {},
   "outputs": [],
   "source": [
    "# Setting up exchange rate variables \n",
    "EUR_USD, USD_JPY, GBP_USD, AUD_USD, USD_CAD = df.loc[:,'EUR/USD'],df.loc[:,'USD/JPY'],df.loc[:,'GBP/USD'],df.loc[:,'AUD/USD'],df.loc[:,'USD/CAD']"
   ]
  },
  {
   "cell_type": "code",
   "execution_count": 102,
   "metadata": {},
   "outputs": [
    {
     "data": {
      "text/plain": [
       "(4918, 4918, 4918, 4918, 4918)"
      ]
     },
     "execution_count": 102,
     "metadata": {},
     "output_type": "execute_result"
    }
   ],
   "source": [
    "# sanity check on the number of values in each exchange rates \n",
    "len (EUR_USD), len (USD_JPY), len (GBP_USD), len (AUD_USD), len (USD_CAD)"
   ]
  },
  {
   "cell_type": "code",
   "execution_count": 103,
   "metadata": {},
   "outputs": [
    {
     "data": {
      "text/plain": [
       "(0    112.15\n",
       " 1    111.15\n",
       " 2    112.78\n",
       " 3    111.69\n",
       " 4    111.52\n",
       " Name: USD/JPY, dtype: float64, 0    1.5268\n",
       " 1    1.5213\n",
       " 2    1.5110\n",
       " 3    1.5117\n",
       " 4    1.5145\n",
       " Name: USD/CAD, dtype: float64)"
      ]
     },
     "execution_count": 103,
     "metadata": {},
     "output_type": "execute_result"
    }
   ],
   "source": [
    "# Ensure all exchange rates are expressed the same way , i.e. in US Dollars . . . so need to flip these\n",
    "USD_JPY.head(), USD_CAD.head()"
   ]
  },
  {
   "cell_type": "code",
   "execution_count": 104,
   "metadata": {},
   "outputs": [],
   "source": [
    "# to flip the exchange rates divide with an array of ones\n",
    "ones = np.ones_like(USD_JPY)"
   ]
  },
  {
   "cell_type": "code",
   "execution_count": 105,
   "metadata": {},
   "outputs": [],
   "source": [
    "JPY_USD, CAD_USD = ones / USD_JPY, ones / USD_CAD"
   ]
  },
  {
   "cell_type": "code",
   "execution_count": 106,
   "metadata": {},
   "outputs": [
    {
     "data": {
      "text/plain": [
       "0    0.008917\n",
       "1    0.008997\n",
       "2    0.008867\n",
       "3    0.008953\n",
       "4    0.008967\n",
       "Name: USD/JPY, dtype: float64"
      ]
     },
     "execution_count": 106,
     "metadata": {},
     "output_type": "execute_result"
    }
   ],
   "source": [
    "JPY_USD.head()"
   ]
  },
  {
   "cell_type": "code",
   "execution_count": 107,
   "metadata": {},
   "outputs": [
    {
     "data": {
      "text/html": [
       "<div>\n",
       "<style scoped>\n",
       "    .dataframe tbody tr th:only-of-type {\n",
       "        vertical-align: middle;\n",
       "    }\n",
       "\n",
       "    .dataframe tbody tr th {\n",
       "        vertical-align: top;\n",
       "    }\n",
       "\n",
       "    .dataframe thead th {\n",
       "        text-align: right;\n",
       "    }\n",
       "</style>\n",
       "<table border=\"1\" class=\"dataframe\">\n",
       "  <thead>\n",
       "    <tr style=\"text-align: right;\">\n",
       "      <th></th>\n",
       "      <th>4 Jan 1999 - 27 July 2018</th>\n",
       "      <th>EUR/USD</th>\n",
       "      <th>USD/JPY</th>\n",
       "      <th>GBP/USD</th>\n",
       "      <th>AUD/USD</th>\n",
       "      <th>USD/CAD</th>\n",
       "    </tr>\n",
       "  </thead>\n",
       "  <tbody>\n",
       "    <tr>\n",
       "      <th>0</th>\n",
       "      <td>1/4/1999</td>\n",
       "      <td>1.1812</td>\n",
       "      <td>112.15</td>\n",
       "      <td>1.6581</td>\n",
       "      <td>0.6182</td>\n",
       "      <td>1.5268</td>\n",
       "    </tr>\n",
       "    <tr>\n",
       "      <th>1</th>\n",
       "      <td>1/5/1999</td>\n",
       "      <td>1.1760</td>\n",
       "      <td>111.15</td>\n",
       "      <td>1.6566</td>\n",
       "      <td>0.6217</td>\n",
       "      <td>1.5213</td>\n",
       "    </tr>\n",
       "    <tr>\n",
       "      <th>2</th>\n",
       "      <td>1/6/1999</td>\n",
       "      <td>1.1636</td>\n",
       "      <td>112.78</td>\n",
       "      <td>1.6547</td>\n",
       "      <td>0.6285</td>\n",
       "      <td>1.5110</td>\n",
       "    </tr>\n",
       "    <tr>\n",
       "      <th>3</th>\n",
       "      <td>1/7/1999</td>\n",
       "      <td>1.1672</td>\n",
       "      <td>111.69</td>\n",
       "      <td>1.6495</td>\n",
       "      <td>0.6340</td>\n",
       "      <td>1.5117</td>\n",
       "    </tr>\n",
       "    <tr>\n",
       "      <th>4</th>\n",
       "      <td>1/8/1999</td>\n",
       "      <td>1.1554</td>\n",
       "      <td>111.52</td>\n",
       "      <td>1.6405</td>\n",
       "      <td>0.6326</td>\n",
       "      <td>1.5145</td>\n",
       "    </tr>\n",
       "  </tbody>\n",
       "</table>\n",
       "</div>"
      ],
      "text/plain": [
       "  4 Jan 1999 - 27 July 2018  EUR/USD  USD/JPY  GBP/USD  AUD/USD  USD/CAD\n",
       "0                  1/4/1999   1.1812   112.15   1.6581   0.6182   1.5268\n",
       "1                  1/5/1999   1.1760   111.15   1.6566   0.6217   1.5213\n",
       "2                  1/6/1999   1.1636   112.78   1.6547   0.6285   1.5110\n",
       "3                  1/7/1999   1.1672   111.69   1.6495   0.6340   1.5117\n",
       "4                  1/8/1999   1.1554   111.52   1.6405   0.6326   1.5145"
      ]
     },
     "execution_count": 107,
     "metadata": {},
     "output_type": "execute_result"
    }
   ],
   "source": [
    "df.head()"
   ]
  },
  {
   "cell_type": "code",
   "execution_count": 108,
   "metadata": {},
   "outputs": [],
   "source": [
    "corr = df.corr()"
   ]
  },
  {
   "cell_type": "code",
   "execution_count": 109,
   "metadata": {},
   "outputs": [],
   "source": [
    "# Generate a mask for the upper triangle\n",
    "mask = np.zeros_like(corr, dtype=np.bool)\n",
    "mask[np.triu_indices_from(mask)] = True"
   ]
  },
  {
   "cell_type": "code",
   "execution_count": 110,
   "metadata": {},
   "outputs": [
    {
     "data": {
      "text/plain": [
       "Text(0.5,1,'Python Data Visualzation of a Correlation Matrix Heatmap:  \\nSome of the Most Traded Currencies in the World from 4 Jan 1999 to 27 July 2018')"
      ]
     },
     "execution_count": 110,
     "metadata": {},
     "output_type": "execute_result"
    },
    {
     "data": {
      "image/png": "[encoded data removed]",
      "text/plain": [
       "<Figure size 792x648 with 2 Axes>"
      ]
     },
     "metadata": {},
     "output_type": "display_data"
    }
   ],
   "source": [
    "# Set up the matplotlib figure\n",
    "f, ax = plt.subplots(figsize=(11, 9))\n",
    "\n",
    "# Generate a custom diverging colormap\n",
    "cmap = sns.diverging_palette(220, 10, as_cmap=True)\n",
    "\n",
    "# Draw the heatmap with the mask and correct aspect ratio\n",
    "sns.heatmap(corr, mask=mask, cmap='Spectral', vmax=.3, center=0, annot_kws={\"size\": 20}, \n",
    "            square=True, annot=True, linewidths=.5, cbar_kws={\"shrink\": .8})\n",
    "\n",
    "plt.yticks(rotation=0, fontweight='bold', fontsize=17)\n",
    "plt.xticks(fontweight='bold', fontsize=17)\n",
    "plt.title('Python Data Visualzation of a Correlation Matrix Heatmap:  \\nSome of the Most Traded Currencies in the World from 4 Jan 1999 to 27 July 2018',\n",
    "          fontweight='bold', fontsize=17,color='olivedrab')"
   ]
  },
  {
   "cell_type": "code",
   "execution_count": 111,
   "metadata": {},
   "outputs": [
    {
     "data": {
      "text/html": [
       "<div>\n",
       "<style scoped>\n",
       "    .dataframe tbody tr th:only-of-type {\n",
       "        vertical-align: middle;\n",
       "    }\n",
       "\n",
       "    .dataframe tbody tr th {\n",
       "        vertical-align: top;\n",
       "    }\n",
       "\n",
       "    .dataframe thead th {\n",
       "        text-align: right;\n",
       "    }\n",
       "</style>\n",
       "<table border=\"1\" class=\"dataframe\">\n",
       "  <thead>\n",
       "    <tr style=\"text-align: right;\">\n",
       "      <th></th>\n",
       "      <th>4 Jan 1999 - 27 July 2018</th>\n",
       "      <th>EUR/USD</th>\n",
       "      <th>USD/JPY</th>\n",
       "      <th>GBP/USD</th>\n",
       "      <th>AUD/USD</th>\n",
       "      <th>USD/CAD</th>\n",
       "    </tr>\n",
       "  </thead>\n",
       "  <tbody>\n",
       "    <tr>\n",
       "      <th>0</th>\n",
       "      <td>1/4/1999</td>\n",
       "      <td>1.1812</td>\n",
       "      <td>112.15</td>\n",
       "      <td>1.6581</td>\n",
       "      <td>0.6182</td>\n",
       "      <td>1.5268</td>\n",
       "    </tr>\n",
       "    <tr>\n",
       "      <th>1</th>\n",
       "      <td>1/5/1999</td>\n",
       "      <td>1.1760</td>\n",
       "      <td>111.15</td>\n",
       "      <td>1.6566</td>\n",
       "      <td>0.6217</td>\n",
       "      <td>1.5213</td>\n",
       "    </tr>\n",
       "    <tr>\n",
       "      <th>2</th>\n",
       "      <td>1/6/1999</td>\n",
       "      <td>1.1636</td>\n",
       "      <td>112.78</td>\n",
       "      <td>1.6547</td>\n",
       "      <td>0.6285</td>\n",
       "      <td>1.5110</td>\n",
       "    </tr>\n",
       "    <tr>\n",
       "      <th>3</th>\n",
       "      <td>1/7/1999</td>\n",
       "      <td>1.1672</td>\n",
       "      <td>111.69</td>\n",
       "      <td>1.6495</td>\n",
       "      <td>0.6340</td>\n",
       "      <td>1.5117</td>\n",
       "    </tr>\n",
       "    <tr>\n",
       "      <th>4</th>\n",
       "      <td>1/8/1999</td>\n",
       "      <td>1.1554</td>\n",
       "      <td>111.52</td>\n",
       "      <td>1.6405</td>\n",
       "      <td>0.6326</td>\n",
       "      <td>1.5145</td>\n",
       "    </tr>\n",
       "  </tbody>\n",
       "</table>\n",
       "</div>"
      ],
      "text/plain": [
       "  4 Jan 1999 - 27 July 2018  EUR/USD  USD/JPY  GBP/USD  AUD/USD  USD/CAD\n",
       "0                  1/4/1999   1.1812   112.15   1.6581   0.6182   1.5268\n",
       "1                  1/5/1999   1.1760   111.15   1.6566   0.6217   1.5213\n",
       "2                  1/6/1999   1.1636   112.78   1.6547   0.6285   1.5110\n",
       "3                  1/7/1999   1.1672   111.69   1.6495   0.6340   1.5117\n",
       "4                  1/8/1999   1.1554   111.52   1.6405   0.6326   1.5145"
      ]
     },
     "execution_count": 111,
     "metadata": {},
     "output_type": "execute_result"
    }
   ],
   "source": [
    "df.head()"
   ]
  },
  {
   "cell_type": "code",
   "execution_count": null,
   "metadata": {},
   "outputs": [],
   "source": []
  }
 ],
 "metadata": {
  "kernelspec": {
   "display_name": "Python 3",
   "language": "python",
   "name": "python3"
  },
  "language_info": {
   "codemirror_mode": {
    "name": "ipython",
    "version": 3
   },
   "file_extension": ".py",
   "mimetype": "text/x-python",
   "name": "python",
   "nbconvert_exporter": "python",
   "pygments_lexer": "ipython3",
   "version": "3.6.5"
  }
 },
 "nbformat": 4,
 "nbformat_minor": 2
}
